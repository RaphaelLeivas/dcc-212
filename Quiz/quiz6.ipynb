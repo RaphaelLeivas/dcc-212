{
 "cells": [
  {
   "cell_type": "code",
   "execution_count": 1,
   "id": "9c70b120",
   "metadata": {},
   "outputs": [],
   "source": [
    "\n",
    "from statsmodels.distributions.empirical_distribution import ECDF\n",
    "from scipy.stats import norm"
   ]
  },
  {
   "cell_type": "code",
   "execution_count": 3,
   "id": "245f7869",
   "metadata": {},
   "outputs": [
    {
     "name": "stdout",
     "output_type": "stream",
     "text": [
      "0.2976716190363569\n",
      "0.9522096477271853\n"
     ]
    }
   ],
   "source": [
    "media = 3\n",
    "desvio = 1.2\n",
    "dist = norm(loc=media, scale=desvio)\n",
    "\n",
    "print(dist.cdf(3) - dist.cdf(2))\n",
    "print(1 - dist.cdf(1))"
   ]
  }
 ],
 "metadata": {
  "kernelspec": {
   "display_name": "myEnv",
   "language": "python",
   "name": "python3"
  },
  "language_info": {
   "codemirror_mode": {
    "name": "ipython",
    "version": 3
   },
   "file_extension": ".py",
   "mimetype": "text/x-python",
   "name": "python",
   "nbconvert_exporter": "python",
   "pygments_lexer": "ipython3",
   "version": "3.12.4"
  }
 },
 "nbformat": 4,
 "nbformat_minor": 5
}
