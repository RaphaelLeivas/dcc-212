{
 "cells": [
  {
   "cell_type": "code",
   "execution_count": 12,
   "id": "da50b5c4",
   "metadata": {},
   "outputs": [
    {
     "data": {
      "text/html": [
       "<div>\n",
       "<style scoped>\n",
       "    .dataframe tbody tr th:only-of-type {\n",
       "        vertical-align: middle;\n",
       "    }\n",
       "\n",
       "    .dataframe tbody tr th {\n",
       "        vertical-align: top;\n",
       "    }\n",
       "\n",
       "    .dataframe thead th {\n",
       "        text-align: right;\n",
       "    }\n",
       "</style>\n",
       "<table border=\"1\" class=\"dataframe\">\n",
       "  <thead>\n",
       "    <tr style=\"text-align: right;\">\n",
       "      <th></th>\n",
       "      <th>Votos</th>\n",
       "      <th>Ano</th>\n",
       "      <th>Turno</th>\n",
       "    </tr>\n",
       "  </thead>\n",
       "  <tbody>\n",
       "    <tr>\n",
       "      <th>count</th>\n",
       "      <td>3.000000</td>\n",
       "      <td>3.0</td>\n",
       "      <td>3.0</td>\n",
       "    </tr>\n",
       "    <tr>\n",
       "      <th>mean</th>\n",
       "      <td>20.666667</td>\n",
       "      <td>2014.0</td>\n",
       "      <td>1.0</td>\n",
       "    </tr>\n",
       "    <tr>\n",
       "      <th>std</th>\n",
       "      <td>10.214369</td>\n",
       "      <td>4.0</td>\n",
       "      <td>0.0</td>\n",
       "    </tr>\n",
       "    <tr>\n",
       "      <th>min</th>\n",
       "      <td>9.000000</td>\n",
       "      <td>2010.0</td>\n",
       "      <td>1.0</td>\n",
       "    </tr>\n",
       "    <tr>\n",
       "      <th>25%</th>\n",
       "      <td>17.000000</td>\n",
       "      <td>2012.0</td>\n",
       "      <td>1.0</td>\n",
       "    </tr>\n",
       "    <tr>\n",
       "      <th>50%</th>\n",
       "      <td>25.000000</td>\n",
       "      <td>2014.0</td>\n",
       "      <td>1.0</td>\n",
       "    </tr>\n",
       "    <tr>\n",
       "      <th>75%</th>\n",
       "      <td>26.500000</td>\n",
       "      <td>2016.0</td>\n",
       "      <td>1.0</td>\n",
       "    </tr>\n",
       "    <tr>\n",
       "      <th>max</th>\n",
       "      <td>28.000000</td>\n",
       "      <td>2018.0</td>\n",
       "      <td>1.0</td>\n",
       "    </tr>\n",
       "  </tbody>\n",
       "</table>\n",
       "</div>"
      ],
      "text/plain": [
       "           Votos     Ano  Turno\n",
       "count   3.000000     3.0    3.0\n",
       "mean   20.666667  2014.0    1.0\n",
       "std    10.214369     4.0    0.0\n",
       "min     9.000000  2010.0    1.0\n",
       "25%    17.000000  2012.0    1.0\n",
       "50%    25.000000  2014.0    1.0\n",
       "75%    26.500000  2016.0    1.0\n",
       "max    28.000000  2018.0    1.0"
      ]
     },
     "execution_count": 12,
     "metadata": {},
     "output_type": "execute_result"
    }
   ],
   "source": [
    "import pandas as pd\n",
    "data ={'Candidato':['A','B','C','D','E','F','G','H','A','B','A','B','C','D','E','F','A','F','A','B','C','D','E','F', 'A','F'],\n",
    "            'Partido':['PAP','PCG','PLT','PSS','PPP', 'PXY', 'PSK','PVC','PAP','PCG','PSK','PCG','PLT','PSS', 'PPP','PXY','PSK','PXY','PSK','PCG','PLT','PVC','PPP','PXY','PSK','PXY'],\n",
    "'Votos':[28, 12, 13, 10, 10, 9, 9, 9, 67, 33, 28, 9, 19, 13,11, 20, 42, 58, 25, 12, 21, 9, 10, 23, 51, 49],\n",
    "'Ano':[2018,2018,2018,2018,2018,2018,2018,2018,2018,2018,2014,2014,2014,2014,2014,2014,2014, 2014,2010,2010,2010,2010,2010,2010,2010,2010],\n",
    "       'Turno':[1,1,1,1,1,1,1,1,2,2,1,1,1,1,1,1,2,2,1,1,1,1,1,1,2,2]}\n",
    "df = pd.DataFrame(data)\n",
    "psk = df.loc[(df[\"Partido\"]=='PSK') & (df[\"Turno\"]==1)]\n",
    "psk.describe()"
   ]
  }
 ],
 "metadata": {
  "kernelspec": {
   "display_name": "myEnv",
   "language": "python",
   "name": "python3"
  },
  "language_info": {
   "codemirror_mode": {
    "name": "ipython",
    "version": 3
   },
   "file_extension": ".py",
   "mimetype": "text/x-python",
   "name": "python",
   "nbconvert_exporter": "python",
   "pygments_lexer": "ipython3",
   "version": "3.12.4"
  }
 },
 "nbformat": 4,
 "nbformat_minor": 5
}
