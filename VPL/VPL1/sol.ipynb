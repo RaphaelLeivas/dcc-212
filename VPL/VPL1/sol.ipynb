{
  "cells": [
    {
      "cell_type": "markdown",
      "metadata": {
        "id": "U8RvoEvZnh50"
      },
      "source": [
        "# Lista 01 - Introdução e Revisão Numpy\n",
        "\n",
        "[NumPy](http://numpy.org) é um pacote incrivelmente poderoso em Python, onipresente em qualquer projeto de ciência de dados. Possui forte integração com o [Pandas](http://pandas.pydata.org), outra ferramenta que iremos abordar na matéria. NumPy adiciona suporte para matrizes multidimensionais e funções matemáticas que permitem que você execute facilmente cálculos de álgebra linear. Este notebook será uma coleção de exemplos de álgebra linear computados usando NumPy.\n",
        "\n",
        "## Numpy\n",
        "\n",
        "Para fazer uso de Numpy precisamos importar a biblioteca"
      ]
    },
    {
      "cell_type": "code",
      "execution_count": 124,
      "metadata": {
        "id": "kTFN9ux8nh53"
      },
      "outputs": [],
      "source": [
        "# -*- coding: utf8\n",
        "\n",
        "import numpy as np"
      ]
    },
    {
      "cell_type": "markdown",
      "metadata": {
        "id": "xNOgqG5pnh54"
      },
      "source": [
        "Quando pensamos no lado prático de ciência de dados, um aspecto chave que ajuda na implementação de novos algoritmos é a vetorização. De forma simples, vetorização consiste do uso de tipos como **escalar**, **vetor** e **matriz** para realizar uma computação mais eficaz (em tempo de execução).\n",
        "\n",
        "Uma matriz é uma coleção de valores, normalmente representada por uma grade 𝑚 × 𝑛, onde 𝑚 é o número de linhas e 𝑛 é o número de colunas. Os comprimentos das arestas 𝑚 e 𝑛 não precisam ser necessariamente diferentes. Se tivermos 𝑚 = 𝑛, chamamos isso de matriz quadrada. Um caso particularmente interessante de uma matriz é quando 𝑚 = 1 ou 𝑛 = 1. Nesse caso, temos um caso especial de uma matriz que chamamos de vetor. Embora haja um objeto de matriz em NumPy, faremos tudo usando matrizes NumPy porque elas podem ter dimensões maiores que 2.\n",
        "\n",
        "1. **Escalar:** Um vetor de zero dimensões"
      ]
    },
    {
      "cell_type": "code",
      "execution_count": 125,
      "metadata": {
        "id": "GT-nMZbfnh55",
        "outputId": "4088cda8-ddfc-4e50-b768-77f601f03cbf"
      },
      "outputs": [
        {
          "data": {
            "text/plain": [
              "1"
            ]
          },
          "execution_count": 125,
          "metadata": {},
          "output_type": "execute_result"
        }
      ],
      "source": [
        "1"
      ]
    },
    {
      "cell_type": "code",
      "execution_count": 126,
      "metadata": {
        "id": "1NT-9Nh7nh56",
        "outputId": "6b7152f0-c44c-4aef-a0be-fff2a6d38745"
      },
      "outputs": [
        {
          "data": {
            "text/plain": [
              "array(1)"
            ]
          },
          "execution_count": 126,
          "metadata": {},
          "output_type": "execute_result"
        }
      ],
      "source": [
        "np.array(1)"
      ]
    },
    {
      "cell_type": "markdown",
      "metadata": {
        "id": "t2_rJSbInh57"
      },
      "source": [
        "2. **Vetor:** Representa uma dimensão"
      ]
    },
    {
      "cell_type": "markdown",
      "metadata": {
        "id": "dpZrgG2mnh57"
      },
      "source": [
        "Abaixo vamos criar um vetor simples. Inicialmente, vamos criar uma lista."
      ]
    },
    {
      "cell_type": "code",
      "execution_count": 127,
      "metadata": {
        "id": "OLfZ_Lsdnh57"
      },
      "outputs": [],
      "source": [
        "data_list = [3.5, 5, 2, 8, 4.2]"
      ]
    },
    {
      "cell_type": "markdown",
      "metadata": {
        "id": "8d-tvWiynh57"
      },
      "source": [
        "Observe o tipo da mesma."
      ]
    },
    {
      "cell_type": "code",
      "execution_count": 128,
      "metadata": {
        "id": "g9sPHljwnh58",
        "outputId": "a544b0f7-b961-4a8b-ef49-10e7cf130ed2"
      },
      "outputs": [
        {
          "data": {
            "text/plain": [
              "list"
            ]
          },
          "execution_count": 128,
          "metadata": {},
          "output_type": "execute_result"
        }
      ],
      "source": [
        "type(data_list)"
      ]
    },
    {
      "cell_type": "markdown",
      "metadata": {
        "id": "Qz0RbSxtnh58"
      },
      "source": [
        "Embora vetores e listas sejam parecidos, vetores Numpy são otimizados para operações de Álgebra Linear. Ciência de Dados faz bastante uso de tais operações, sendo este um dos motivos da dependência em Numpy.\n",
        "\n",
        "Abaixo criamos um vetor."
      ]
    },
    {
      "cell_type": "code",
      "execution_count": 129,
      "metadata": {
        "id": "7Sk_pRT-nh59",
        "outputId": "3c0a8fc5-d63b-4f1a-dc4e-722c05dfda05"
      },
      "outputs": [
        {
          "name": "stdout",
          "output_type": "stream",
          "text": [
            "[3.5 5.  2.  8.  4.2]\n",
            "<class 'numpy.ndarray'>\n"
          ]
        }
      ],
      "source": [
        "data = np.array(data_list)\n",
        "print(data)\n",
        "print(type(data))"
      ]
    },
    {
      "cell_type": "markdown",
      "metadata": {
        "id": "VPgfiCS0nh5-"
      },
      "source": [
        "Observe como podemos somar o mesmo com um número. Não é possível fazer tal operação com listas."
      ]
    },
    {
      "cell_type": "code",
      "execution_count": 130,
      "metadata": {
        "id": "k3M9bbsWnh5-",
        "outputId": "6be19427-2855-4e6b-b8d1-453435ce3939"
      },
      "outputs": [
        {
          "data": {
            "text/plain": [
              "array([10.5, 12. ,  9. , 15. , 11.2])"
            ]
          },
          "execution_count": 130,
          "metadata": {},
          "output_type": "execute_result"
        }
      ],
      "source": [
        "data + 7"
      ]
    },
    {
      "cell_type": "markdown",
      "metadata": {
        "id": "CMki7JYnnh5-"
      },
      "source": [
        "3. **Matrizes:** Representam duas dimensões."
      ]
    },
    {
      "cell_type": "code",
      "execution_count": 131,
      "metadata": {
        "id": "oVBpgWnDnh5-",
        "outputId": "02abba26-a3b7-4bbe-81b3-b6999c3308af"
      },
      "outputs": [
        {
          "data": {
            "text/plain": [
              "array([[2, 4],\n",
              "       [1, 3]])"
            ]
          },
          "execution_count": 131,
          "metadata": {},
          "output_type": "execute_result"
        }
      ],
      "source": [
        "X = np.array([[2, 4],\n",
        "              [1, 3]])\n",
        "X"
      ]
    },
    {
      "cell_type": "markdown",
      "metadata": {
        "id": "a4FyWh5Pnh5_"
      },
      "source": [
        "Podemos indexar as matrizes e os vetores."
      ]
    },
    {
      "cell_type": "code",
      "execution_count": 132,
      "metadata": {
        "id": "UNWrucVenh5_",
        "outputId": "09d56607-e3fc-457d-8a4e-2fa982b827b6"
      },
      "outputs": [
        {
          "data": {
            "text/plain": [
              "np.float64(3.5)"
            ]
          },
          "execution_count": 132,
          "metadata": {},
          "output_type": "execute_result"
        }
      ],
      "source": [
        "data[0]"
      ]
    },
    {
      "cell_type": "code",
      "execution_count": 133,
      "metadata": {
        "id": "-iJgLSwqnh5_",
        "outputId": "edc2d1d0-03d2-4103-9967-f73f87201272"
      },
      "outputs": [
        {
          "data": {
            "text/plain": [
              "np.int64(4)"
            ]
          },
          "execution_count": 133,
          "metadata": {},
          "output_type": "execute_result"
        }
      ],
      "source": [
        "X[0, 1] # aqui é primeira linha, segunda coluna"
      ]
    },
    {
      "cell_type": "markdown",
      "metadata": {
        "id": "5yuoF9HBnh6A"
      },
      "source": [
        "Podemos também criar vetores/matrizes de números aleatórios"
      ]
    },
    {
      "cell_type": "code",
      "execution_count": 134,
      "metadata": {
        "id": "c3D-7XWjnh6A",
        "outputId": "f98a5c72-918e-477c-ff62-78cc02b8bbb7"
      },
      "outputs": [
        {
          "name": "stdout",
          "output_type": "stream",
          "text": [
            "[[-0.63262145 -0.32299044 -0.71598943]\n",
            " [-0.79702627  0.26353106 -0.94677761]\n",
            " [ 1.17971223 -0.835492    0.81177078]\n",
            " [-0.63832449 -1.05373909  0.62482427]]\n"
          ]
        }
      ],
      "source": [
        "X = np.random.randn(4, 3) # Gera números aleatórios de uma normal\n",
        "print(X)"
      ]
    },
    {
      "cell_type": "markdown",
      "metadata": {
        "id": "nFyX8XMCnh6A"
      },
      "source": [
        "### Indexando\n",
        "\n",
        "Pegando a primeira linha"
      ]
    },
    {
      "cell_type": "code",
      "execution_count": 135,
      "metadata": {
        "id": "Jcurpmnonh6A",
        "outputId": "a804f006-d06f-4b60-d249-cd17810aeb4e"
      },
      "outputs": [
        {
          "data": {
            "text/plain": [
              "array([-0.63262145, -0.32299044, -0.71598943])"
            ]
          },
          "execution_count": 135,
          "metadata": {},
          "output_type": "execute_result"
        }
      ],
      "source": [
        "X[0] # observe que 0 é a linha 1, compare com o X[0, 1] de antes."
      ]
    },
    {
      "cell_type": "code",
      "execution_count": 136,
      "metadata": {
        "id": "oRbwCJBNnh6A",
        "outputId": "9c795201-f343-4039-ac6a-c49ed95b3e2f"
      },
      "outputs": [
        {
          "data": {
            "text/plain": [
              "array([-0.79702627,  0.26353106, -0.94677761])"
            ]
          },
          "execution_count": 136,
          "metadata": {},
          "output_type": "execute_result"
        }
      ],
      "source": [
        "X[1] # segunda"
      ]
    },
    {
      "cell_type": "code",
      "execution_count": 137,
      "metadata": {
        "id": "R15BN43unh6B",
        "outputId": "accd4ac7-6881-4d5b-d4ae-f0aaef08b0cb"
      },
      "outputs": [
        {
          "data": {
            "text/plain": [
              "array([ 1.17971223, -0.835492  ,  0.81177078])"
            ]
          },
          "execution_count": 137,
          "metadata": {},
          "output_type": "execute_result"
        }
      ],
      "source": [
        "X[2] # terceira"
      ]
    },
    {
      "cell_type": "markdown",
      "metadata": {
        "id": "5KQzPkOhnh6B"
      },
      "source": [
        "Observe como todos os tipos retornados são `array`. Array é o nome genérico de Numpy para vetores e matrizes."
      ]
    },
    {
      "cell_type": "markdown",
      "metadata": {
        "id": "Evo6TUC3nh6C"
      },
      "source": [
        "`X[:, c]` pega uma coluna"
      ]
    },
    {
      "cell_type": "code",
      "execution_count": 138,
      "metadata": {
        "id": "fV7LQrHGnh6C",
        "outputId": "30fb078a-6378-4dd0-8826-bf8fff65a8f7"
      },
      "outputs": [
        {
          "data": {
            "text/plain": [
              "array([-0.63262145, -0.79702627,  1.17971223, -0.63832449])"
            ]
          },
          "execution_count": 138,
          "metadata": {},
          "output_type": "execute_result"
        }
      ],
      "source": [
        "X[:, 0]"
      ]
    },
    {
      "cell_type": "code",
      "execution_count": 139,
      "metadata": {
        "id": "E2uQZliHnh6D",
        "outputId": "300a2874-a96e-4d14-e066-394ce95d2b11"
      },
      "outputs": [
        {
          "data": {
            "text/plain": [
              "array([-0.32299044,  0.26353106, -0.835492  , -1.05373909])"
            ]
          },
          "execution_count": 139,
          "metadata": {},
          "output_type": "execute_result"
        }
      ],
      "source": [
        "X[:, 1]"
      ]
    },
    {
      "cell_type": "markdown",
      "metadata": {
        "id": "HcdNRFxYnh6D"
      },
      "source": [
        "`X[um_vetor]` pega as linhas da matriz. `X[:, um_vetor]` pega as colunas"
      ]
    },
    {
      "cell_type": "code",
      "execution_count": 140,
      "metadata": {
        "id": "TrjUq1ipnh6D",
        "outputId": "022fdb97-f393-4554-f7f0-7312a7b77b1e"
      },
      "outputs": [
        {
          "data": {
            "text/plain": [
              "array([[-0.63262145, -0.32299044, -0.71598943],\n",
              "       [-0.63262145, -0.32299044, -0.71598943],\n",
              "       [-0.79702627,  0.26353106, -0.94677761]])"
            ]
          },
          "execution_count": 140,
          "metadata": {},
          "output_type": "execute_result"
        }
      ],
      "source": [
        "X[[0, 0, 1]] # observe que pego a primeira linha, indexada por 0, duas vezes"
      ]
    },
    {
      "cell_type": "markdown",
      "metadata": {
        "id": "1lUg2CPOnh6E"
      },
      "source": [
        "Abaixo pego a segunda a primeira coluna"
      ]
    },
    {
      "cell_type": "code",
      "execution_count": 141,
      "metadata": {
        "id": "dTW1Sc7Unh6E",
        "outputId": "f0718b76-c0ad-4fc6-ac79-baee8deb4153"
      },
      "outputs": [
        {
          "data": {
            "text/plain": [
              "array([[-0.32299044, -0.63262145],\n",
              "       [ 0.26353106, -0.79702627],\n",
              "       [-0.835492  ,  1.17971223],\n",
              "       [-1.05373909, -0.63832449]])"
            ]
          },
          "execution_count": 141,
          "metadata": {},
          "output_type": "execute_result"
        }
      ],
      "source": [
        "X[:, [1, 0]]"
      ]
    },
    {
      "cell_type": "markdown",
      "metadata": {
        "id": "BH0loAvcnh6E"
      },
      "source": [
        "### Indexação Booleana\n",
        "\n",
        "`X[vetor_booleano]` retorna as linhas (ou colunas quando X[:, vetor_booleano]) onde o vetor é true"
      ]
    },
    {
      "cell_type": "code",
      "execution_count": 142,
      "metadata": {
        "id": "ZFygGEQwnh6E",
        "outputId": "3964b4b4-c41a-4d6a-fc4a-b792640771fa"
      },
      "outputs": [
        {
          "data": {
            "text/plain": [
              "array([[-0.63262145, -0.32299044, -0.71598943],\n",
              "       [ 1.17971223, -0.835492  ,  0.81177078]])"
            ]
          },
          "execution_count": 142,
          "metadata": {},
          "output_type": "execute_result"
        }
      ],
      "source": [
        "X[[True, False, True, False]]"
      ]
    },
    {
      "cell_type": "code",
      "execution_count": 143,
      "metadata": {
        "id": "AQENnbm9nh6E",
        "outputId": "b743785e-ab6d-4211-c298-339ec1be10f9"
      },
      "outputs": [
        {
          "data": {
            "text/plain": [
              "array([[-0.32299044, -0.71598943],\n",
              "       [ 0.26353106, -0.94677761],\n",
              "       [-0.835492  ,  0.81177078],\n",
              "       [-1.05373909,  0.62482427]])"
            ]
          },
          "execution_count": 143,
          "metadata": {},
          "output_type": "execute_result"
        }
      ],
      "source": [
        "X[:, [False, True, True]]"
      ]
    },
    {
      "cell_type": "markdown",
      "metadata": {
        "id": "2WF3-lOpnh6F"
      },
      "source": [
        "### Reshape, Flatten e Ravel\n",
        "\n",
        "Todo vetor ou matriz pode ser redimensionado. Observe como uma matriz abaixo de 9x8=72 elementos. Podemos redimensionar os mesmos para outros arrays de tamanho 72."
      ]
    },
    {
      "cell_type": "code",
      "execution_count": 144,
      "metadata": {
        "id": "a0moEH2lnh6F"
      },
      "outputs": [],
      "source": [
        "X = np.random.randn(9, 8)"
      ]
    },
    {
      "cell_type": "markdown",
      "metadata": {
        "id": "01qfX8Uqnh6F"
      },
      "source": [
        "Criando uma matriz de 18x4."
      ]
    },
    {
      "cell_type": "code",
      "execution_count": 145,
      "metadata": {
        "id": "6GsVzN6fnh6F",
        "outputId": "f094ad5d-f0be-4b49-c9ca-677d0176ca78"
      },
      "outputs": [
        {
          "data": {
            "text/plain": [
              "array([[ 3.29663287e-01,  1.36094571e+00, -8.84965275e-01,\n",
              "        -3.32082545e-01],\n",
              "       [-1.05152866e+00, -1.00307132e+00,  7.82901210e-01,\n",
              "         1.21112537e+00],\n",
              "       [-1.16162216e+00, -1.33949682e+00,  4.19426517e-01,\n",
              "        -1.02268344e+00],\n",
              "       [-1.65583954e+00, -5.24244221e-02, -1.13102682e+00,\n",
              "        -9.13051771e-01],\n",
              "       [ 1.07584361e+00,  9.66116116e-01, -3.22791805e-02,\n",
              "        -4.00477870e-01],\n",
              "       [-6.84473322e-01,  1.38043854e+00,  7.68644655e-01,\n",
              "         2.87019293e-01],\n",
              "       [ 1.66513069e+00,  1.01203814e+00, -3.70489056e-01,\n",
              "         1.56917665e-01],\n",
              "       [ 1.20612569e+00, -5.17910498e-01, -1.17069270e-01,\n",
              "         4.37633230e-01],\n",
              "       [ 6.96090864e-01, -3.51365140e-01, -2.95208024e-02,\n",
              "        -1.14733660e+00],\n",
              "       [ 5.69198898e-01,  1.19988270e-01, -2.50347661e-04,\n",
              "         1.27327068e+00],\n",
              "       [ 2.69344923e-01,  7.11493179e-01,  3.21989724e-01,\n",
              "         5.00510013e-01],\n",
              "       [-8.71611470e-01, -1.65962140e+00, -1.46122581e+00,\n",
              "         1.79990047e+00],\n",
              "       [ 1.61876630e+00, -2.64072101e-01,  2.31938935e+00,\n",
              "        -6.34135594e-01],\n",
              "       [-1.65017550e+00,  4.78668205e-01,  2.11926798e+00,\n",
              "        -8.71691934e-01],\n",
              "       [-1.33378153e+00, -6.60112129e-01, -1.04467351e+00,\n",
              "        -9.62542202e-01],\n",
              "       [ 1.66093918e+00,  2.47981836e+00, -1.05693955e-02,\n",
              "         1.93047628e+00],\n",
              "       [ 2.03977275e+00,  1.29953689e+00,  1.31883032e+00,\n",
              "        -2.21565725e+00],\n",
              "       [-1.17324535e+00,  4.16244718e-01, -1.40877332e+00,\n",
              "        -7.26879060e-01]])"
            ]
          },
          "execution_count": 145,
          "metadata": {},
          "output_type": "execute_result"
        }
      ],
      "source": [
        "X.reshape((18, 4))"
      ]
    },
    {
      "cell_type": "markdown",
      "metadata": {
        "id": "RVzqfSJunh6G"
      },
      "source": [
        "Ou um vetor de 72"
      ]
    },
    {
      "cell_type": "code",
      "execution_count": 146,
      "metadata": {
        "id": "qE9C7grvnh6G",
        "outputId": "4f354517-8fb9-40a4-a02d-6619d533c1fe"
      },
      "outputs": [
        {
          "data": {
            "text/plain": [
              "array([ 3.29663287e-01,  1.36094571e+00, -8.84965275e-01, -3.32082545e-01,\n",
              "       -1.05152866e+00, -1.00307132e+00,  7.82901210e-01,  1.21112537e+00,\n",
              "       -1.16162216e+00, -1.33949682e+00,  4.19426517e-01, -1.02268344e+00,\n",
              "       -1.65583954e+00, -5.24244221e-02, -1.13102682e+00, -9.13051771e-01,\n",
              "        1.07584361e+00,  9.66116116e-01, -3.22791805e-02, -4.00477870e-01,\n",
              "       -6.84473322e-01,  1.38043854e+00,  7.68644655e-01,  2.87019293e-01,\n",
              "        1.66513069e+00,  1.01203814e+00, -3.70489056e-01,  1.56917665e-01,\n",
              "        1.20612569e+00, -5.17910498e-01, -1.17069270e-01,  4.37633230e-01,\n",
              "        6.96090864e-01, -3.51365140e-01, -2.95208024e-02, -1.14733660e+00,\n",
              "        5.69198898e-01,  1.19988270e-01, -2.50347661e-04,  1.27327068e+00,\n",
              "        2.69344923e-01,  7.11493179e-01,  3.21989724e-01,  5.00510013e-01,\n",
              "       -8.71611470e-01, -1.65962140e+00, -1.46122581e+00,  1.79990047e+00,\n",
              "        1.61876630e+00, -2.64072101e-01,  2.31938935e+00, -6.34135594e-01,\n",
              "       -1.65017550e+00,  4.78668205e-01,  2.11926798e+00, -8.71691934e-01,\n",
              "       -1.33378153e+00, -6.60112129e-01, -1.04467351e+00, -9.62542202e-01,\n",
              "        1.66093918e+00,  2.47981836e+00, -1.05693955e-02,  1.93047628e+00,\n",
              "        2.03977275e+00,  1.29953689e+00,  1.31883032e+00, -2.21565725e+00,\n",
              "       -1.17324535e+00,  4.16244718e-01, -1.40877332e+00, -7.26879060e-01])"
            ]
          },
          "execution_count": 146,
          "metadata": {},
          "output_type": "execute_result"
        }
      ],
      "source": [
        "X.reshape(72)"
      ]
    },
    {
      "cell_type": "markdown",
      "metadata": {
        "id": "kYiwheTlnh6G"
      },
      "source": [
        "A chamada flatten e ravel faz a mesma coisa, criam uma visão de uma dimensão da matriz."
      ]
    },
    {
      "cell_type": "code",
      "execution_count": 147,
      "metadata": {
        "id": "PGpsWyrznh6G",
        "outputId": "17c7df1b-a2c5-4c48-85f7-23ecb8781e97"
      },
      "outputs": [
        {
          "data": {
            "text/plain": [
              "array([ 3.29663287e-01,  1.36094571e+00, -8.84965275e-01, -3.32082545e-01,\n",
              "       -1.05152866e+00, -1.00307132e+00,  7.82901210e-01,  1.21112537e+00,\n",
              "       -1.16162216e+00, -1.33949682e+00,  4.19426517e-01, -1.02268344e+00,\n",
              "       -1.65583954e+00, -5.24244221e-02, -1.13102682e+00, -9.13051771e-01,\n",
              "        1.07584361e+00,  9.66116116e-01, -3.22791805e-02, -4.00477870e-01,\n",
              "       -6.84473322e-01,  1.38043854e+00,  7.68644655e-01,  2.87019293e-01,\n",
              "        1.66513069e+00,  1.01203814e+00, -3.70489056e-01,  1.56917665e-01,\n",
              "        1.20612569e+00, -5.17910498e-01, -1.17069270e-01,  4.37633230e-01,\n",
              "        6.96090864e-01, -3.51365140e-01, -2.95208024e-02, -1.14733660e+00,\n",
              "        5.69198898e-01,  1.19988270e-01, -2.50347661e-04,  1.27327068e+00,\n",
              "        2.69344923e-01,  7.11493179e-01,  3.21989724e-01,  5.00510013e-01,\n",
              "       -8.71611470e-01, -1.65962140e+00, -1.46122581e+00,  1.79990047e+00,\n",
              "        1.61876630e+00, -2.64072101e-01,  2.31938935e+00, -6.34135594e-01,\n",
              "       -1.65017550e+00,  4.78668205e-01,  2.11926798e+00, -8.71691934e-01,\n",
              "       -1.33378153e+00, -6.60112129e-01, -1.04467351e+00, -9.62542202e-01,\n",
              "        1.66093918e+00,  2.47981836e+00, -1.05693955e-02,  1.93047628e+00,\n",
              "        2.03977275e+00,  1.29953689e+00,  1.31883032e+00, -2.21565725e+00,\n",
              "       -1.17324535e+00,  4.16244718e-01, -1.40877332e+00, -7.26879060e-01])"
            ]
          },
          "execution_count": 147,
          "metadata": {},
          "output_type": "execute_result"
        }
      ],
      "source": [
        "X.flatten()"
      ]
    },
    {
      "cell_type": "code",
      "execution_count": 148,
      "metadata": {
        "id": "lus5jR90nh6G",
        "outputId": "fa4dfa83-714e-42db-f3fd-4c1d08f0d3e2"
      },
      "outputs": [
        {
          "data": {
            "text/plain": [
              "array([ 3.29663287e-01,  1.36094571e+00, -8.84965275e-01, -3.32082545e-01,\n",
              "       -1.05152866e+00, -1.00307132e+00,  7.82901210e-01,  1.21112537e+00,\n",
              "       -1.16162216e+00, -1.33949682e+00,  4.19426517e-01, -1.02268344e+00,\n",
              "       -1.65583954e+00, -5.24244221e-02, -1.13102682e+00, -9.13051771e-01,\n",
              "        1.07584361e+00,  9.66116116e-01, -3.22791805e-02, -4.00477870e-01,\n",
              "       -6.84473322e-01,  1.38043854e+00,  7.68644655e-01,  2.87019293e-01,\n",
              "        1.66513069e+00,  1.01203814e+00, -3.70489056e-01,  1.56917665e-01,\n",
              "        1.20612569e+00, -5.17910498e-01, -1.17069270e-01,  4.37633230e-01,\n",
              "        6.96090864e-01, -3.51365140e-01, -2.95208024e-02, -1.14733660e+00,\n",
              "        5.69198898e-01,  1.19988270e-01, -2.50347661e-04,  1.27327068e+00,\n",
              "        2.69344923e-01,  7.11493179e-01,  3.21989724e-01,  5.00510013e-01,\n",
              "       -8.71611470e-01, -1.65962140e+00, -1.46122581e+00,  1.79990047e+00,\n",
              "        1.61876630e+00, -2.64072101e-01,  2.31938935e+00, -6.34135594e-01,\n",
              "       -1.65017550e+00,  4.78668205e-01,  2.11926798e+00, -8.71691934e-01,\n",
              "       -1.33378153e+00, -6.60112129e-01, -1.04467351e+00, -9.62542202e-01,\n",
              "        1.66093918e+00,  2.47981836e+00, -1.05693955e-02,  1.93047628e+00,\n",
              "        2.03977275e+00,  1.29953689e+00,  1.31883032e+00, -2.21565725e+00,\n",
              "       -1.17324535e+00,  4.16244718e-01, -1.40877332e+00, -7.26879060e-01])"
            ]
          },
          "execution_count": 148,
          "metadata": {},
          "output_type": "execute_result"
        }
      ],
      "source": [
        "X.ravel()"
      ]
    },
    {
      "cell_type": "markdown",
      "metadata": {
        "id": "WWS7yqQhnh6G"
      },
      "source": [
        "As funções incorporadas ao NumPy podem ser facilmente chamadas em matrizes. A maioria das funções são aplicadas a um elemento de array (como a multiplicação escalar). Por exemplo, se chamarmos `log()` em um array, o logaritmo será obtido de cada elemento."
      ]
    },
    {
      "cell_type": "code",
      "execution_count": 149,
      "metadata": {
        "id": "hMfGwRE2nh6G",
        "outputId": "1ebf1b2b-e1ca-4789-d309-f82043628f68"
      },
      "outputs": [
        {
          "data": {
            "text/plain": [
              "array([1.25276297, 1.60943791, 0.69314718, 2.07944154, 1.43508453])"
            ]
          },
          "execution_count": 149,
          "metadata": {},
          "output_type": "execute_result"
        }
      ],
      "source": [
        "np.log(data)"
      ]
    },
    {
      "cell_type": "markdown",
      "metadata": {
        "id": "UYigQX6lnh6G"
      },
      "source": [
        "Mean tira a média"
      ]
    },
    {
      "cell_type": "code",
      "execution_count": 150,
      "metadata": {
        "id": "WiaCy0ionh6G",
        "outputId": "e15ff52f-b4d6-475a-84d4-9fadbed3bfc7"
      },
      "outputs": [
        {
          "data": {
            "text/plain": [
              "np.float64(4.54)"
            ]
          },
          "execution_count": 150,
          "metadata": {},
          "output_type": "execute_result"
        }
      ],
      "source": [
        "np.mean(data)"
      ]
    },
    {
      "cell_type": "markdown",
      "metadata": {
        "id": "3UPgzIxCnh6H"
      },
      "source": [
        "Algumas funções podem ser chamadas direto no vetor, nem todas serão assim. O importante é ler a [documentação](http://numpy.org) e aprender. Com um pouco de prática você vai se acostumando."
      ]
    },
    {
      "cell_type": "code",
      "execution_count": 151,
      "metadata": {
        "id": "jSljm5f0nh6H",
        "outputId": "5b15a0f0-a1dd-45bc-e8ea-f4083b51004a"
      },
      "outputs": [
        {
          "data": {
            "text/plain": [
              "np.float64(4.54)"
            ]
          },
          "execution_count": 151,
          "metadata": {},
          "output_type": "execute_result"
        }
      ],
      "source": [
        "data.mean()"
      ]
    },
    {
      "cell_type": "markdown",
      "metadata": {
        "id": "4pLT3QqFnh6H"
      },
      "source": [
        "Abaixo temos a mediana,"
      ]
    },
    {
      "cell_type": "code",
      "execution_count": 152,
      "metadata": {
        "id": "KfIXKqSjnh6H",
        "outputId": "510bc373-95ba-41b1-8e1d-ac2f94b11e1e"
      },
      "outputs": [
        {
          "data": {
            "text/plain": [
              "np.float64(4.2)"
            ]
          },
          "execution_count": 152,
          "metadata": {},
          "output_type": "execute_result"
        }
      ],
      "source": [
        "np.median(data) # por exemplo, não existe data.median(). Faz sentido? Não. Mas é assim."
      ]
    },
    {
      "cell_type": "markdown",
      "metadata": {
        "id": "6tl3eQhRnh6H"
      },
      "source": [
        "Em matrizes as funções operam em todos os elemntos."
      ]
    },
    {
      "cell_type": "code",
      "execution_count": 153,
      "metadata": {
        "id": "x_pwBuIPnh6I",
        "outputId": "93b7bd46-adab-4a52-84bd-fa4d163c1e62"
      },
      "outputs": [
        {
          "data": {
            "text/plain": [
              "np.float64(-0.005409871578903586)"
            ]
          },
          "execution_count": 153,
          "metadata": {},
          "output_type": "execute_result"
        }
      ],
      "source": [
        "np.median(X)"
      ]
    },
    {
      "cell_type": "code",
      "execution_count": 154,
      "metadata": {
        "id": "xuPA9F26nh6I",
        "outputId": "730089b1-1d6b-43c1-f813-c9fb0f411069"
      },
      "outputs": [
        {
          "data": {
            "text/plain": [
              "np.float64(0.08132964771273027)"
            ]
          },
          "execution_count": 154,
          "metadata": {},
          "output_type": "execute_result"
        }
      ],
      "source": [
        "X.mean()"
      ]
    },
    {
      "cell_type": "code",
      "execution_count": 155,
      "metadata": {
        "id": "LVWaZdtsnh6J",
        "outputId": "56eb1ee5-c742-470d-e609-e66315597b8b"
      },
      "outputs": [
        {
          "data": {
            "text/plain": [
              "array([[2.33501969, 2.43018166, 2.20992522, 2.26881292, 2.19148272,\n",
              "        2.19688326, 2.37796166, 2.41690662],\n",
              "       [2.17910336, 2.15877282, 2.343672  , 2.19470101, 2.12156195,\n",
              "        2.29732886, 2.18255903, 2.20683912],\n",
              "       [2.40476649, 2.39481017, 2.29935195, 2.26171332, 2.23168254,\n",
              "        2.43189596, 2.37663864, 2.33088284],\n",
              "       [2.45660411, 2.39898905, 2.26483244, 2.31815502, 2.41646057,\n",
              "        2.2494047 , 2.2908091 , 2.34541785],\n",
              "       [2.36987833, 2.26681644, 2.29962865, 2.18071836, 2.35794401,\n",
              "        2.3145125 , 2.30256006, 2.4224345 ],\n",
              "       [2.32916324, 2.37131729, 2.33427654, 2.35142383, 2.21138918,\n",
              "        2.12110861, 2.14461746, 2.4680911 ],\n",
              "       [2.45262158, 2.27582295, 2.51117439, 2.23707163, 2.12224052,\n",
              "        2.34934159, 2.49479658, 2.21138036],\n",
              "       [2.15943253, 2.23429425, 2.19224849, 2.20137792, 2.45624472,\n",
              "        2.52411281, 2.30152759, 2.47909616],\n",
              "       [2.48821556, 2.42476174, 2.42646774, 2.05211438, 2.17778741,\n",
              "        2.34336658, 2.15074153, 2.22711999]])"
            ]
          },
          "execution_count": 155,
          "metadata": {},
          "output_type": "execute_result"
        }
      ],
      "source": [
        "np.log(X + 10)"
      ]
    },
    {
      "cell_type": "markdown",
      "metadata": {
        "id": "vJ82XnsKnh6J"
      },
      "source": [
        "Porém, caso você queira a media de linhas ou colunas use `axis`. Antes, vamos ver o tamanho do vetor."
      ]
    },
    {
      "cell_type": "code",
      "execution_count": 156,
      "metadata": {
        "id": "XNOZcIKAnh6J",
        "outputId": "da812d84-a94d-40a7-9a98-71187938eff1"
      },
      "outputs": [
        {
          "data": {
            "text/plain": [
              "(9, 8)"
            ]
          },
          "execution_count": 156,
          "metadata": {},
          "output_type": "execute_result"
        }
      ],
      "source": [
        "X.shape"
      ]
    },
    {
      "cell_type": "code",
      "execution_count": 157,
      "metadata": {
        "id": "jBtc7bhxnh6J",
        "outputId": "995d46f7-4767-456e-f958-07eafa7d20e9"
      },
      "outputs": [
        {
          "data": {
            "text/plain": [
              "array([ 0.57768986,  0.3038982 ,  0.22418979, -0.6730542 , -0.40562334,\n",
              "        0.18245894, -0.05090012,  0.49197806])"
            ]
          },
          "execution_count": 157,
          "metadata": {},
          "output_type": "execute_result"
        }
      ],
      "source": [
        "np.mean(X, axis=0) # média das colunas. como temos 8 colunas, temos 8 elementos."
      ]
    },
    {
      "cell_type": "code",
      "execution_count": 158,
      "metadata": {
        "id": "sHzJFeCznh6J",
        "outputId": "6700c935-6cca-47d8-e33c-9f4073b1effb"
      },
      "outputs": [
        {
          "data": {
            "text/plain": [
              "(8,)"
            ]
          },
          "execution_count": 158,
          "metadata": {},
          "output_type": "execute_result"
        }
      ],
      "source": [
        "np.mean(X, axis=0).shape"
      ]
    },
    {
      "cell_type": "code",
      "execution_count": 159,
      "metadata": {
        "id": "fV5ZnEFynh6K",
        "outputId": "7c79cafa-991d-4c97-eeb6-a3d2c63af655"
      },
      "outputs": [
        {
          "data": {
            "text/plain": [
              "array([ 0.05162347, -0.85708981,  0.42010398,  0.43404707,  0.14125948,\n",
              "       -0.04865255,  0.38950209,  0.25744438, -0.05627129])"
            ]
          },
          "execution_count": 159,
          "metadata": {},
          "output_type": "execute_result"
        }
      ],
      "source": [
        "np.mean(X, axis=1) # média das linhas"
      ]
    },
    {
      "cell_type": "code",
      "execution_count": 160,
      "metadata": {
        "id": "XnzJzzGenh6K",
        "outputId": "9577290c-0a85-4efc-b47a-37b53bba99bc"
      },
      "outputs": [
        {
          "data": {
            "text/plain": [
              "(9,)"
            ]
          },
          "execution_count": 160,
          "metadata": {},
          "output_type": "execute_result"
        }
      ],
      "source": [
        "np.mean(X, axis=1).shape"
      ]
    },
    {
      "cell_type": "markdown",
      "metadata": {
        "id": "h6dCdbUonh6K"
      },
      "source": [
        "Lembre-se que eixo 0 é coluna. Eixo 1 é linas."
      ]
    },
    {
      "cell_type": "markdown",
      "metadata": {
        "id": "5ZveDdgZnh6K"
      },
      "source": [
        "### Multiplicação de Matrizes"
      ]
    },
    {
      "cell_type": "markdown",
      "metadata": {
        "id": "pStVz4Ranh6K"
      },
      "source": [
        "Para transpor uma matriz fazemos uso de .T"
      ]
    },
    {
      "cell_type": "code",
      "execution_count": 161,
      "metadata": {
        "id": "c3IHnJqInh6K",
        "outputId": "3e58cbf5-bead-4268-8c26-88504013dd2d"
      },
      "outputs": [
        {
          "data": {
            "text/plain": [
              "(9, 8)"
            ]
          },
          "execution_count": 161,
          "metadata": {},
          "output_type": "execute_result"
        }
      ],
      "source": [
        "X.shape"
      ]
    },
    {
      "cell_type": "code",
      "execution_count": 162,
      "metadata": {
        "id": "r6HiH_M_nh6L",
        "outputId": "391aa959-8994-4425-a626-7b27920be3ba"
      },
      "outputs": [
        {
          "data": {
            "text/plain": [
              "(8, 9)"
            ]
          },
          "execution_count": 162,
          "metadata": {},
          "output_type": "execute_result"
        }
      ],
      "source": [
        "X.T.shape"
      ]
    },
    {
      "cell_type": "code",
      "execution_count": 163,
      "metadata": {
        "id": "f-OmsFIInh6L",
        "outputId": "96a13295-a163-4545-ac73-0866d10c5972"
      },
      "outputs": [
        {
          "data": {
            "text/plain": [
              "array([[ 3.29663287e-01, -1.16162216e+00,  1.07584361e+00,\n",
              "         1.66513069e+00,  6.96090864e-01,  2.69344923e-01,\n",
              "         1.61876630e+00, -1.33378153e+00,  2.03977275e+00],\n",
              "       [ 1.36094571e+00, -1.33949682e+00,  9.66116116e-01,\n",
              "         1.01203814e+00, -3.51365140e-01,  7.11493179e-01,\n",
              "        -2.64072101e-01, -6.60112129e-01,  1.29953689e+00],\n",
              "       [-8.84965275e-01,  4.19426517e-01, -3.22791805e-02,\n",
              "        -3.70489056e-01, -2.95208024e-02,  3.21989724e-01,\n",
              "         2.31938935e+00, -1.04467351e+00,  1.31883032e+00],\n",
              "       [-3.32082545e-01, -1.02268344e+00, -4.00477870e-01,\n",
              "         1.56917665e-01, -1.14733660e+00,  5.00510013e-01,\n",
              "        -6.34135594e-01, -9.62542202e-01, -2.21565725e+00],\n",
              "       [-1.05152866e+00, -1.65583954e+00, -6.84473322e-01,\n",
              "         1.20612569e+00,  5.69198898e-01, -8.71611470e-01,\n",
              "        -1.65017550e+00,  1.66093918e+00, -1.17324535e+00],\n",
              "       [-1.00307132e+00, -5.24244221e-02,  1.38043854e+00,\n",
              "        -5.17910498e-01,  1.19988270e-01, -1.65962140e+00,\n",
              "         4.78668205e-01,  2.47981836e+00,  4.16244718e-01],\n",
              "       [ 7.82901210e-01, -1.13102682e+00,  7.68644655e-01,\n",
              "        -1.17069270e-01, -2.50347661e-04, -1.46122581e+00,\n",
              "         2.11926798e+00, -1.05693955e-02, -1.40877332e+00],\n",
              "       [ 1.21112537e+00, -9.13051771e-01,  2.87019293e-01,\n",
              "         4.37633230e-01,  1.27327068e+00,  1.79990047e+00,\n",
              "        -8.71691934e-01,  1.93047628e+00, -7.26879060e-01]])"
            ]
          },
          "execution_count": 163,
          "metadata": {},
          "output_type": "execute_result"
        }
      ],
      "source": [
        "X.T"
      ]
    },
    {
      "cell_type": "markdown",
      "metadata": {
        "id": "TKNMVLZnnh6L"
      },
      "source": [
        "Para multiplicar matrizes, do ponto de visto de multiplicação matricial como definido na álgebra linear, fazemos uso de `@`."
      ]
    },
    {
      "cell_type": "code",
      "execution_count": 164,
      "metadata": {
        "id": "C9JjY8yNnh6L",
        "outputId": "50af6e64-1855-4f62-a765-1a2df4837b75"
      },
      "outputs": [
        {
          "data": {
            "text/plain": [
              "array([[ 7.045917  , -2.43504348,  2.11550957,  1.89162222,  0.98143074,\n",
              "         4.22308909,  0.19078409, -1.99811816,  0.84260537],\n",
              "       [-2.43504348,  9.22285591, -2.2182218 , -5.84291737, -1.288033  ,\n",
              "        -0.10319546,  1.20094518, -1.65114185,  2.8868209 ],\n",
              "       [ 2.11550957, -2.2182218 ,  5.29955325,  1.21340364,  1.011157  ,\n",
              "        -1.53464649,  4.8345491 ,  1.17884086,  4.38091194],\n",
              "       [ 1.89162222, -5.84291737,  1.21340364,  5.88696522,  1.81602419,\n",
              "         1.89482117, -1.39841791, -1.0879236 ,  2.09153989],\n",
              "       [ 0.98143074, -1.288033  ,  1.011157  ,  1.81602419,  3.88485557,\n",
              "         0.9506067 , -0.11358293,  4.13968211,  1.92340036],\n",
              "       [ 4.22308909, -0.10319546, -1.53464649,  1.89482117,  0.9506067 ,\n",
              "         9.82182919, -3.34423458, -3.72019254,  1.87173667],\n",
              "       [ 0.19078409,  1.20094518,  4.8345491 , -1.39841791, -0.11358293,\n",
              "        -3.34423458, 16.67517936, -7.05639664,  7.20600234],\n",
              "       [-1.99811816, -1.65114185,  1.17884086, -1.0879236 ,  4.13968211,\n",
              "        -3.72019254, -7.05639664, 16.86761984, -5.12834553],\n",
              "       [ 0.84260537,  2.8868209 ,  4.38091194,  2.09153989,  1.92340036,\n",
              "         1.87173667,  7.20600234, -5.12834553, 16.56067918]])"
            ]
          },
          "execution_count": 164,
          "metadata": {},
          "output_type": "execute_result"
        }
      ],
      "source": [
        "X @ X.T"
      ]
    },
    {
      "cell_type": "markdown",
      "metadata": {
        "id": "L37wdRLpnh6L"
      },
      "source": [
        "O uso de `*` realiza uma operação ponto a ponto"
      ]
    },
    {
      "cell_type": "code",
      "execution_count": 165,
      "metadata": {
        "id": "bu-Rfxr6nh6L",
        "outputId": "983f993c-47ba-4e57-8a57-b2a59ffbb6dc"
      },
      "outputs": [
        {
          "data": {
            "text/plain": [
              "array([[1.08677883e-01, 1.85217322e+00, 7.83163538e-01, 1.10278817e-01,\n",
              "        1.10571251e+00, 1.00615208e+00, 6.12934305e-01, 1.46682465e+00],\n",
              "       [1.34936605e+00, 1.79425173e+00, 1.75918604e-01, 1.04588142e+00,\n",
              "        2.74180458e+00, 2.74832003e-03, 1.27922167e+00, 8.33663537e-01],\n",
              "       [1.15743947e+00, 9.33380349e-01, 1.04194549e-03, 1.60382524e-01,\n",
              "        4.68503729e-01, 1.90561055e+00, 5.90814606e-01, 8.23800746e-02],\n",
              "       [2.77266021e+00, 1.02422119e+00, 1.37262141e-01, 2.46231537e-02,\n",
              "        1.45473918e+00, 2.68231284e-01, 1.37052141e-02, 1.91522844e-01],\n",
              "       [4.84542491e-01, 1.23457462e-01, 8.71477772e-04, 1.31638128e+00,\n",
              "        3.23987385e-01, 1.43971850e-02, 6.26739512e-08, 1.62121822e+00],\n",
              "       [7.25466873e-02, 5.06222544e-01, 1.03677382e-01, 2.50510273e-01,\n",
              "        7.59706555e-01, 2.75434320e+00, 2.13518086e+00, 3.23964169e+00],\n",
              "       [2.62040433e+00, 6.97340745e-02, 5.37956696e+00, 4.02127952e-01,\n",
              "        2.72307919e+00, 2.29123250e-01, 4.49129677e+00, 7.59846828e-01],\n",
              "       [1.77897316e+00, 4.35748023e-01, 1.09134273e+00, 9.26487490e-01,\n",
              "        2.75871895e+00, 6.14949912e+00, 1.11712121e-04, 3.72673866e+00],\n",
              "       [4.16067286e+00, 1.68879613e+00, 1.73931340e+00, 4.90913703e+00,\n",
              "        1.37650466e+00, 1.73259665e-01, 1.98464226e+00, 5.28353167e-01]])"
            ]
          },
          "execution_count": 165,
          "metadata": {},
          "output_type": "execute_result"
        }
      ],
      "source": [
        "X * X"
      ]
    },
    {
      "cell_type": "markdown",
      "metadata": {
        "id": "BoKtgeTknh6L"
      },
      "source": [
        "Observe a diferença de tamanhos"
      ]
    },
    {
      "cell_type": "code",
      "execution_count": 166,
      "metadata": {
        "id": "6UhPu-zznh6M",
        "outputId": "a26ad8bb-cc6d-402e-b24f-c45459b15a50"
      },
      "outputs": [
        {
          "data": {
            "text/plain": [
              "(9, 8)"
            ]
          },
          "execution_count": 166,
          "metadata": {},
          "output_type": "execute_result"
        }
      ],
      "source": [
        "(X * X).shape"
      ]
    },
    {
      "cell_type": "code",
      "execution_count": 167,
      "metadata": {
        "id": "1IBneJXBnh6M",
        "outputId": "d6e0d5d2-d24f-4939-b42b-c71112a7c360"
      },
      "outputs": [
        {
          "data": {
            "text/plain": [
              "(9, 9)"
            ]
          },
          "execution_count": 167,
          "metadata": {},
          "output_type": "execute_result"
        }
      ],
      "source": [
        "(X @ X.T).shape"
      ]
    },
    {
      "cell_type": "markdown",
      "metadata": {
        "id": "sxYOgzifnh6M"
      },
      "source": [
        "**Pense:** Para o nosso `X` de tamanho `(9, 8)`, qual o motivo de `X * X.T` não funcionar? Qual o motivo de `X @ X` não funcionar?"
      ]
    },
    {
      "cell_type": "markdown",
      "metadata": {
        "id": "JVmXupqxnh6M"
      },
      "source": [
        "## Correção Automática\n",
        "\n",
        "Nossa correção automática depende das funções abaixo. Tais funções comparam valores que serão computados pelo seu código com uma saída esperada. Normalmente, vocês não fazer uso de tais funções em notebooks como este. Porém, elas são chave em ambientes de testes automáticos (fora do nosso escopo).\n",
        "\n",
        "Observe como algumas funções comparam valores e outras comparam vetores. Além do mais, temos funções para comparar dentro de algumas casas decimais."
      ]
    },
    {
      "cell_type": "code",
      "execution_count": 168,
      "metadata": {
        "id": "6dth1_efnh6M"
      },
      "outputs": [],
      "source": [
        "from numpy.testing import assert_almost_equal\n",
        "from numpy.testing import assert_equal\n",
        "\n",
        "from numpy.testing import assert_array_almost_equal\n",
        "from numpy.testing import assert_array_equal"
      ]
    },
    {
      "cell_type": "code",
      "execution_count": 169,
      "metadata": {
        "id": "bdD-FUUjnh6N"
      },
      "outputs": [],
      "source": [
        "# caso você mude um dos valores vamos receber um erro!\n",
        "assert_array_equal(2, 2)\n",
        "\n",
        "# caso você mude um dos valores vamos receber um erro!\n",
        "assert_array_equal([1, 2], [1, 2])\n",
        "\n",
        "# caso você mude um dos valores vamos receber um erro!\n",
        "assert_almost_equal(3.1415, 3.14, 1)"
      ]
    },
    {
      "cell_type": "markdown",
      "metadata": {
        "id": "b8Gn_34-nh6N"
      },
      "source": [
        "Caso você mude um dos valores abaixo vamos receber um erro! Como o abaixo.\n",
        "\n",
        "```\n",
        "-----------------------------------------------------------------------\n",
        "AssertionError                        Traceback (most recent call last)\n",
        "<ipython-input-10-396672d880f2> in <module>\n",
        "----> 1 assert_equal(2, 3) # caso você mude um dos valores vamos receber um erro!\n",
        "\n",
        "~/miniconda3/lib/python3.7/site-packages/numpy/testing/_private/utils.py in assert_equal(actual, desired, err_msg, verbose)\n",
        "    413         # Explicitly use __eq__ for comparison, gh-2552\n",
        "    414         if not (desired == actual):\n",
        "--> 415             raise AssertionError(msg)\n",
        "    416\n",
        "    417     except (DeprecationWarning, FutureWarning) as e:\n",
        "\n",
        "AssertionError:\n",
        "Items are not equal:\n",
        " ACTUAL: 2\n",
        " DESIRED: 3\n",
        " ```"
      ]
    },
    {
      "cell_type": "markdown",
      "metadata": {
        "id": "QRVqt_i_nh6N"
      },
      "source": [
        "É essencial que todo seu código execute sem erros! Portanto, antes de submeter clique em `Kernel` no menu acima. Depois clique em `Restart & Execute All.`\n",
        "\n",
        "**Garanta que o notebook executa até o fim!** Isto é, sem erros como o acima."
      ]
    },
    {
      "cell_type": "markdown",
      "metadata": {
        "id": "ffwALPALnh6N"
      },
      "source": [
        "## Funções em Python"
      ]
    },
    {
      "cell_type": "markdown",
      "metadata": {
        "id": "lPqL81zEnh6O"
      },
      "source": [
        "Para criar uma função em Python fazemos uso da palavra-chave:\n",
        "```python\n",
        "def\n",
        "```\n",
        "\n",
        "Todos nossos exercícios farão uso de funções. **Mantenha a assinatura das funções exatamente como requisitado, a correção automática depende disso.** Abaixo, temos um exempo de uma função que imprime algo na tela!"
      ]
    },
    {
      "cell_type": "code",
      "execution_count": 170,
      "metadata": {
        "id": "CUzSV2Dlnh6O"
      },
      "outputs": [],
      "source": [
        "def print_something(txt):\n",
        "    print(f'Voce passou o argumento: {txt}')"
      ]
    },
    {
      "cell_type": "code",
      "execution_count": 171,
      "metadata": {
        "id": "d4eSC1yunh6O",
        "outputId": "8198d57e-bc0a-4158-cf7d-398a43112e03"
      },
      "outputs": [
        {
          "name": "stdout",
          "output_type": "stream",
          "text": [
            "Voce passou o argumento: DCC 212\n"
          ]
        }
      ],
      "source": [
        "print_something('DCC 212')"
      ]
    },
    {
      "cell_type": "markdown",
      "metadata": {
        "id": "6qsDHw27nh6P"
      },
      "source": [
        "Podemos também dizer o tipo do argumento, porém faremos pouco uso disto em ICD."
      ]
    },
    {
      "cell_type": "code",
      "execution_count": 172,
      "metadata": {
        "id": "I6lNcSgKnh6P"
      },
      "outputs": [],
      "source": [
        "def print_something(txt: str):\n",
        "    print(f'Voce passou o argumento: {txt}')"
      ]
    },
    {
      "cell_type": "code",
      "execution_count": 173,
      "metadata": {
        "id": "hwYQvY9Anh6P",
        "outputId": "30a4d760-c452-4403-ce18-43abd7689967"
      },
      "outputs": [
        {
          "name": "stdout",
          "output_type": "stream",
          "text": [
            "Voce passou o argumento: DCC 212\n"
          ]
        }
      ],
      "source": [
        "print_something('DCC 212')"
      ]
    },
    {
      "cell_type": "markdown",
      "metadata": {
        "id": "oaR2GI7vnh6P"
      },
      "source": [
        "Abaixo temos uma função que soma, a soma, dois vetores"
      ]
    },
    {
      "cell_type": "code",
      "execution_count": 174,
      "metadata": {
        "id": "e7NfoCkWnh6P"
      },
      "outputs": [],
      "source": [
        "def sum_of_sum_vectors(array_1, array_2):\n",
        "    return (array_1 + array_2).sum()"
      ]
    },
    {
      "cell_type": "code",
      "execution_count": 175,
      "metadata": {
        "id": "4JnZsafdnh6Q"
      },
      "outputs": [],
      "source": [
        "x = np.array([1, 2])\n",
        "y = np.array([1, 2])"
      ]
    },
    {
      "cell_type": "code",
      "execution_count": 176,
      "metadata": {
        "id": "9lTAYZv1nh6Q",
        "outputId": "f555efeb-4342-47f9-928d-49d24c097c8e"
      },
      "outputs": [
        {
          "data": {
            "text/plain": [
              "np.int64(6)"
            ]
          },
          "execution_count": 176,
          "metadata": {},
          "output_type": "execute_result"
        }
      ],
      "source": [
        "sum_of_sum_vectors(x, y)"
      ]
    },
    {
      "cell_type": "markdown",
      "metadata": {
        "id": "Y3p-UwbAnh6Q"
      },
      "source": [
        "Abaixo temos um teste, tais testes vão avaliar o seu código. Nem todos estão aqui no notebook!"
      ]
    },
    {
      "cell_type": "code",
      "execution_count": 177,
      "metadata": {
        "id": "yobDoSPrnh6Q"
      },
      "outputs": [],
      "source": [
        "assert_equal(6, sum_of_sum_vectors(x, y))"
      ]
    },
    {
      "cell_type": "markdown",
      "metadata": {
        "id": "d1dP3M1Ynh6R"
      },
      "source": [
        "## Exercício 01\n",
        "\n",
        "Inicialmente, crie uma função que recebe duas listas de números, converte as duas para um vetor numpy usando `np.array` e retorna o produto interno das duas listas.\n",
        "\n",
        "__Dicas:__  \n",
        "1. Tente fazer um código sem nenhum **for**! Ou seja, numpy permite operações em vetores e matrizes, onde: `np.array([1, 2]) + np.array([2, 2]) = np.array([3, 4])`.\n",
        "\n",
        "__Funções:__\n",
        "1. `np.sum(array)` soma os elementos do array. `array.sum()` tem o mesmo efeito!"
      ]
    },
    {
      "cell_type": "code",
      "execution_count": 178,
      "metadata": {
        "id": "7lME_QPEnh6R"
      },
      "outputs": [],
      "source": [
        "def inner(array_1, array_2):\n",
        "    # Seu código aqui!\n",
        "    # Apague o return None abaixo e mude para seu retorno\n",
        "    return (array_1 * array_2).sum()"
      ]
    },
    {
      "cell_type": "code",
      "execution_count": 179,
      "metadata": {
        "id": "OUGa1ubYnh6S"
      },
      "outputs": [],
      "source": [
        "x1 = np.array([2, 4, 8])\n",
        "x2 = np.array([10, 100, 1000])\n",
        "assert_equal(20 + 400 + 8000, inner(x1, x2))"
      ]
    },
    {
      "cell_type": "markdown",
      "metadata": {
        "id": "sFvNbQ6bnh6S"
      },
      "source": [
        "## Exercício 02\n",
        "\n",
        "Implemente uma função utilizando numpy que recebe duas matrizes, multiplica as duas e retorne o valor médio das células da multiplicação. Por exemplo, ao multiplicar:\n",
        "\n",
        "```\n",
        "[1 2]\n",
        "[3 4]\n",
        "\n",
        "com\n",
        "\n",
        "[2 1]\n",
        "[1 2]\n",
        "\n",
        "temos\n",
        "\n",
        "[4  5 ]\n",
        "[10 11]\n",
        "\n",
        "onde a média de [4, 5, 10, 11] é\n",
        "\n",
        "7.5, sua resposta final!\n",
        "```\n",
        "\n",
        "\n",
        "__Dicas:__  \n",
        "1. Use o operador @ para multiplicar matrizes!"
      ]
    },
    {
      "cell_type": "code",
      "execution_count": 180,
      "metadata": {
        "id": "C50BNlqgnh6T"
      },
      "outputs": [],
      "source": [
        "def medmult(X_1, X_2):\n",
        "    # Seu código aqui!\n",
        "    # Apague o return None abaixo e mude para seu retorno\n",
        "    return np.mean(X_1 @ X_2)\n",
        "    "
      ]
    },
    {
      "cell_type": "code",
      "execution_count": 181,
      "metadata": {
        "id": "4w5u-Ggxnh6U"
      },
      "outputs": [],
      "source": [
        "X = np.array([1, 2, 3, 4]).reshape(2, 2)\n",
        "Y = np.array([2, 1, 1, 2]).reshape(2, 2)\n",
        "assert_equal(7.5, medmult(X, Y))"
      ]
    }
  ],
  "metadata": {
    "colab": {
      "provenance": []
    },
    "kernelspec": {
      "display_name": "myEnv",
      "language": "python",
      "name": "python3"
    },
    "language_info": {
      "codemirror_mode": {
        "name": "ipython",
        "version": 3
      },
      "file_extension": ".py",
      "mimetype": "text/x-python",
      "name": "python",
      "nbconvert_exporter": "python",
      "pygments_lexer": "ipython3",
      "version": "3.12.4"
    }
  },
  "nbformat": 4,
  "nbformat_minor": 0
}
