{
  "cells": [
    {
      "cell_type": "markdown",
      "metadata": {
        "id": "TQGlJi34JkKg"
      },
      "source": [
        "# Lista 02 - Pandas Básico\n",
        "\n",
        "Uma parte significativa do trabalho de um cientista de dados é explorar, analisar e visualizar dados. Há uma grande variedade de ferramentas e linguagens de programação que eles podem usar para fazer isso, e uma das abordagens mais populares é usar notebooks Jupyter (como este) e Python.\n",
        "\n",
        "Neste notebook, vamos explorar o pacote [Pandas](http://pandas.pydata.org) e o [Matplotlib](http://matplotlib.org). Também aplicaremos técnicas básicas para analisar dados. Este notebook não é um exercício de programação Python abrangente; ou até mesmo um mergulho profundo na análise de dados. Em vez disso, pretende ser um curso intensivo sobre algumas das maneiras comuns em que os cientistas de dados podem usar Python para explorar com dados.\n",
        "\n",
        "## Imports Básicos\n",
        "\n",
        "As três células abaixo apenas configuram nosso notebook para ficar mais parecido com os das aulas"
      ]
    },
    {
      "cell_type": "code",
      "execution_count": 16,
      "metadata": {
        "id": "pdh0fI5DJkKk"
      },
      "outputs": [],
      "source": [
        "import numpy as np\n",
        "import matplotlib.pyplot as plt\n",
        "import pandas as pd"
      ]
    },
    {
      "cell_type": "code",
      "execution_count": 17,
      "metadata": {
        "id": "Ntcj9dCmJkKm"
      },
      "outputs": [],
      "source": [
        "plt.rcParams['figure.figsize']  = (16, 10)\n",
        "plt.rcParams['axes.labelsize']  = 20\n",
        "plt.rcParams['axes.titlesize']  = 20\n",
        "plt.rcParams['legend.fontsize'] = 20\n",
        "plt.rcParams['xtick.labelsize'] = 20\n",
        "plt.rcParams['ytick.labelsize'] = 20\n",
        "plt.rcParams['lines.linewidth'] = 4"
      ]
    },
    {
      "cell_type": "code",
      "execution_count": 18,
      "metadata": {
        "id": "BOHkZzYqJkKp"
      },
      "outputs": [
        {
          "data": {
            "text/plain": [
              "<contextlib.ExitStack at 0x1e311aa9d30>"
            ]
          },
          "execution_count": 18,
          "metadata": {},
          "output_type": "execute_result"
        }
      ],
      "source": [
        "plt.ion()\n",
        "# plt.style.use('seaborn-colorblind')"
      ]
    },
    {
      "cell_type": "markdown",
      "metadata": {
        "id": "HI2EvgZRJkKw"
      },
      "source": [
        "## NumPy Novamente\n",
        "\n",
        "Vamos começar examinando alguns dados simples.\n",
        "\n",
        "Em determinadas épocas do ano a venda de certos produtos sofre um aumento significativo. Um exemplo disso, são as vendas de sorvete que aumentam bastante no verão. Além do sorvete, outros itens como protetor solar e vestuário de banho podem ganhar maior atenção durante essa época do ano enquanto outros produtos podem não ser tão valorizados.\n",
        "\n",
        "Inicialmente, vamos criar alguns dadoos de vendas de sorvete."
      ]
    },
    {
      "cell_type": "code",
      "execution_count": 19,
      "metadata": {
        "id": "6R6nY3dsJkK0"
      },
      "outputs": [
        {
          "name": "stdout",
          "output_type": "stream",
          "text": [
            "[3000, 2600, 1400, 1500, 1200, 500, 300, 400, 700, 600, 800, 1900]\n"
          ]
        }
      ],
      "source": [
        "ice_cream = [3000, 2600, 1400, 1500, 1200, 500, 300, 400, 700, 600, 800, 1900]\n",
        "print(ice_cream)"
      ]
    },
    {
      "cell_type": "markdown",
      "metadata": {
        "id": "4j1w-9vIJkK6"
      },
      "source": [
        "Os dados foram carregados em um TAD **list**. Como falamos no último laboratório, listas não são otimizadas para análise numérica. Para isso, vamos usar o pacote **NumPy** novamente. Então, vamos criar um vetor Numpy dos dados!"
      ]
    },
    {
      "cell_type": "code",
      "execution_count": 20,
      "metadata": {
        "id": "mzU1xvv6JkK6"
      },
      "outputs": [
        {
          "name": "stdout",
          "output_type": "stream",
          "text": [
            "[3000 2600 1400 1500 1200  500  300  400  700  600  800 1900]\n"
          ]
        }
      ],
      "source": [
        "ice_cream_v = np.array(ice_cream)\n",
        "print(ice_cream_v)"
      ]
    },
    {
      "cell_type": "markdown",
      "metadata": {
        "id": "APDxav2vJkK8"
      },
      "source": [
        "Caso você ainda esteja se perguntando sobre as diferenças entre uma **list** e uma **array numpy (np.array)**, vamos comparar como esses tipos de dados se comportam quando os usamos em uma expressão que os multiplica por 2."
      ]
    },
    {
      "cell_type": "code",
      "execution_count": 21,
      "metadata": {
        "id": "xx7nSdqPJkK_"
      },
      "outputs": [
        {
          "name": "stdout",
          "output_type": "stream",
          "text": [
            "<class 'list'> x 2: [3000, 2600, 1400, 1500, 1200, 500, 300, 400, 700, 600, 800, 1900, 3000, 2600, 1400, 1500, 1200, 500, 300, 400, 700, 600, 800, 1900]\n",
            "---\n",
            "<class 'numpy.ndarray'> x 2: [6000 5200 2800 3000 2400 1000  600  800 1400 1200 1600 3800]\n"
          ]
        }
      ],
      "source": [
        "print (type(ice_cream),'x 2:', ice_cream * 2)\n",
        "print('---')\n",
        "print (type(ice_cream_v),'x 2:', ice_cream_v * 2)"
      ]
    },
    {
      "cell_type": "markdown",
      "metadata": {
        "id": "0OwP9iIbJkLD"
      },
      "source": [
        "Observe que multiplicar uma lista por 2 cria uma nova lista com o dobro do comprimento e a sequência original de elementos da lista repetida. Multiplicar um array NumPy, por outro lado, realiza um cálculo elementar no qual o array se comporta como um *vetor*. Terminamos com um array do mesmo tamanho no qual cada elemento foi multiplicado por 2.\n",
        "\n",
        "A principal conclusão disso é que os arrays NumPy são projetados especificamente para suportar operações matemáticas em dados numéricos."
      ]
    },
    {
      "cell_type": "code",
      "execution_count": 22,
      "metadata": {
        "id": "CVnjiBhOJkLG"
      },
      "outputs": [
        {
          "data": {
            "text/plain": [
              "np.float64(1000.0)"
            ]
          },
          "execution_count": 22,
          "metadata": {},
          "output_type": "execute_result"
        }
      ],
      "source": [
        "np.median(ice_cream_v)"
      ]
    },
    {
      "cell_type": "markdown",
      "metadata": {
        "id": "420B9OndJkLH"
      },
      "source": [
        "### Exercício 01\n",
        "\n",
        "Altere a função abaixo para retornar a mediana do valor dos sorvetes e o número de elementos no array."
      ]
    },
    {
      "cell_type": "code",
      "execution_count": 23,
      "metadata": {
        "id": "2zQMGP5iJkLJ"
      },
      "outputs": [],
      "source": [
        "def median_and_size(array):\n",
        "    # Retorne uma tupla, abaixo temos um return de exemplo\n",
        "    median = np.median(ice_cream_v)\n",
        "    size = np.size(ice_cream_v)\n",
        "\n",
        "    return (median, size)"
      ]
    },
    {
      "cell_type": "markdown",
      "metadata": {
        "id": "hvefEsBuJkLK"
      },
      "source": [
        "Novamente, vanos carregar os módulos de testes"
      ]
    },
    {
      "cell_type": "code",
      "execution_count": 24,
      "metadata": {
        "id": "Q3vtxgRoJkLL"
      },
      "outputs": [],
      "source": [
        "from numpy.testing import assert_almost_equal\n",
        "from numpy.testing import assert_equal\n",
        "\n",
        "from numpy.testing import assert_array_almost_equal\n",
        "from numpy.testing import assert_array_equal"
      ]
    },
    {
      "cell_type": "markdown",
      "metadata": {
        "id": "81WCH4AOJkLN"
      },
      "source": [
        "Nosso teste"
      ]
    },
    {
      "cell_type": "code",
      "execution_count": 25,
      "metadata": {
        "id": "x3v2h5slJkLR"
      },
      "outputs": [],
      "source": [
        "median, size = median_and_size(ice_cream_v)\n",
        "assert_equal(1000, median)\n",
        "assert_equal(12, size)"
      ]
    },
    {
      "cell_type": "code",
      "execution_count": 26,
      "metadata": {
        "id": "MJADmgP0JkLS"
      },
      "outputs": [
        {
          "data": {
            "text/plain": [
              "12"
            ]
          },
          "execution_count": 26,
          "metadata": {},
          "output_type": "execute_result"
        }
      ],
      "source": [
        "len(ice_cream_v)"
      ]
    },
    {
      "cell_type": "markdown",
      "metadata": {
        "id": "t7U8sCAtJkLS"
      },
      "source": [
        "## Pandas"
      ]
    },
    {
      "cell_type": "markdown",
      "metadata": {
        "id": "_izbHxVsJkLT"
      },
      "source": [
        "Embora o NumPy forneça muitas das funcionalidades de que você precisa para trabalhar com números, quando você começa a lidar com tabelas de dados bidimensionais, o pacote Pandas oferece uma estrutura mais conveniente para trabalhar - o DataFrame.\n",
        "\n",
        "Agora, vamos criar alguns dados de vendas de outros produtos. Além do mais, vamos criar um array de meses."
      ]
    },
    {
      "cell_type": "code",
      "execution_count": 27,
      "metadata": {
        "id": "yayW95P0JkLT"
      },
      "outputs": [],
      "source": [
        "ice_cream = np.array([3000, 2600, 1400, 1500, 1200, 500, 300, 400, 700, 600, 800, 1900])\n",
        "sunglasses = np.array([1000, 800, 100, 70, 50, 190, 60, 50, 100, 120, 130, 900])\n",
        "coats = np.array([10, 20, 80, 120, 100, 500, 900, 780, 360, 100, 120, 20])\n",
        "labels = np.array([\"Jan\", \"Fev\", \"Mar\", \"Abr\", \"Mai\", \"Jun\", \"Jul\", \"Ago\", \"Set\", \"Out\", \"Nov\", \"Dez\"])"
      ]
    },
    {
      "cell_type": "markdown",
      "metadata": {
        "id": "rQhqzk7ZJkLU"
      },
      "source": [
        "O código abaixo cria um DataFrame na mão. É mais comum ler dados de arquivos. Porém, neste laboratório inicial, vamos usar um DataFrame com a pequena base de dados acima. A tabela vai ser da seguinte forma:\n",
        "\n",
        "```\n",
        "       icecream   sunglasses   coats\n",
        "------------------------------------\n",
        "Jan     3000        1000        10\n",
        "Fev     2600        800         20\n",
        "...     ...         ...        ...\n",
        "Dez     1900        900         20\n",
        "```\n",
        "\n",
        "Observe que, além das colunas que você especificou, o DataFrame inclui um índice para identificar cada linha de forma exclusiva."
      ]
    },
    {
      "cell_type": "code",
      "execution_count": 28,
      "metadata": {
        "id": "ksXykz_nJkLU"
      },
      "outputs": [],
      "source": [
        "df = pd.DataFrame({'icecream': ice_cream,      # coluna 0\n",
        "                   'sunglasses': sunglasses,   # coluna 1\n",
        "                   'coats': coats},            # coluna 2\n",
        "                   index=labels)"
      ]
    },
    {
      "cell_type": "markdown",
      "metadata": {
        "id": "WlfyDvieJkLU"
      },
      "source": [
        "A chamada head mostra as 5 primeiras linhas do DataFrame."
      ]
    },
    {
      "cell_type": "code",
      "execution_count": 29,
      "metadata": {
        "id": "597q_pFiJkLV"
      },
      "outputs": [
        {
          "data": {
            "text/html": [
              "<div>\n",
              "<style scoped>\n",
              "    .dataframe tbody tr th:only-of-type {\n",
              "        vertical-align: middle;\n",
              "    }\n",
              "\n",
              "    .dataframe tbody tr th {\n",
              "        vertical-align: top;\n",
              "    }\n",
              "\n",
              "    .dataframe thead th {\n",
              "        text-align: right;\n",
              "    }\n",
              "</style>\n",
              "<table border=\"1\" class=\"dataframe\">\n",
              "  <thead>\n",
              "    <tr style=\"text-align: right;\">\n",
              "      <th></th>\n",
              "      <th>icecream</th>\n",
              "      <th>sunglasses</th>\n",
              "      <th>coats</th>\n",
              "    </tr>\n",
              "  </thead>\n",
              "  <tbody>\n",
              "    <tr>\n",
              "      <th>Jan</th>\n",
              "      <td>3000</td>\n",
              "      <td>1000</td>\n",
              "      <td>10</td>\n",
              "    </tr>\n",
              "    <tr>\n",
              "      <th>Fev</th>\n",
              "      <td>2600</td>\n",
              "      <td>800</td>\n",
              "      <td>20</td>\n",
              "    </tr>\n",
              "    <tr>\n",
              "      <th>Mar</th>\n",
              "      <td>1400</td>\n",
              "      <td>100</td>\n",
              "      <td>80</td>\n",
              "    </tr>\n",
              "    <tr>\n",
              "      <th>Abr</th>\n",
              "      <td>1500</td>\n",
              "      <td>70</td>\n",
              "      <td>120</td>\n",
              "    </tr>\n",
              "    <tr>\n",
              "      <th>Mai</th>\n",
              "      <td>1200</td>\n",
              "      <td>50</td>\n",
              "      <td>100</td>\n",
              "    </tr>\n",
              "  </tbody>\n",
              "</table>\n",
              "</div>"
            ],
            "text/plain": [
              "     icecream  sunglasses  coats\n",
              "Jan      3000        1000     10\n",
              "Fev      2600         800     20\n",
              "Mar      1400         100     80\n",
              "Abr      1500          70    120\n",
              "Mai      1200          50    100"
            ]
          },
          "execution_count": 29,
          "metadata": {},
          "output_type": "execute_result"
        }
      ],
      "source": [
        "df.head()"
      ]
    },
    {
      "cell_type": "markdown",
      "metadata": {
        "id": "WcB_rV4uJkLV"
      },
      "source": [
        "### Exercício 02\n",
        "\n",
        "Lembre-se da sala de aula que pandas contém chamadas `loc` e `iloc` para acessar o índice. Sabendo disto, implemente a função abaixo que retorna a quantidade de vendas em um dado mês na forma de `string`. A sua função deve retornar uma Series do pandas. Por exemplo, segue a saída esperada para 'Jan'.\n",
        "\n",
        "```python\n",
        "month_sales(df, 'Jan')\n",
        "```\n",
        "\n",
        "```\n",
        "icecream      3000\n",
        "sunglasses    1000\n",
        "coats           10\n",
        "Name: Jan, dtype: int64\n",
        "```"
      ]
    },
    {
      "cell_type": "code",
      "execution_count": 38,
      "metadata": {
        "id": "pSpc1r7OJkLW"
      },
      "outputs": [],
      "source": [
        "def month_sales(df, month: str):\n",
        "    return df.loc[month]"
      ]
    },
    {
      "cell_type": "code",
      "execution_count": 39,
      "metadata": {
        "id": "gHIZ_f4YJkLX"
      },
      "outputs": [],
      "source": [
        "series = month_sales(df, 'Jan')\n",
        "assert_equal(3000, series.loc['icecream'])\n",
        "assert_equal(1000, series.loc['sunglasses'])\n",
        "assert_equal(10, series.loc['coats'])"
      ]
    },
    {
      "cell_type": "markdown",
      "metadata": {
        "id": "kczzyfz3JkLX"
      },
      "source": [
        "### Exercício 03\n",
        "\n",
        "Agora, implemente uma função que retorna uma linha do DataFrame a partir do número da linha (um número inteiro)."
      ]
    },
    {
      "cell_type": "code",
      "execution_count": 40,
      "metadata": {
        "id": "MVAAK4bAJkLX"
      },
      "outputs": [],
      "source": [
        "def row_sales(df, row: int):\n",
        "    return df.iloc[row]"
      ]
    },
    {
      "cell_type": "code",
      "execution_count": 41,
      "metadata": {
        "id": "dweQbeoGJkLY"
      },
      "outputs": [],
      "source": [
        "series = row_sales(df, 0)\n",
        "assert_equal(3000, series.loc['icecream'])\n",
        "assert_equal(1000, series.loc['sunglasses'])\n",
        "assert_equal(10, series.loc['coats'])"
      ]
    },
    {
      "cell_type": "markdown",
      "metadata": {
        "id": "BxINuR3sJkLZ"
      },
      "source": [
        "### Exercício 04 (Sem correção Automática)\n",
        "\n",
        "Agora, faça um gráfico estilo o abaixo para entender a venda de produtos ao longo dos meses. Esta tarefa não tem correção automática, use o gráfico abaixo para saber se acertou ou não.\n",
        "\n",
        "Lembre-se que em Pandas os data frames contém um método [plot](https://pandas.pydata.org/pandas-docs/stable/reference/api/pandas.DataFrame.plot.html). Leia a documentação do mesmo caso necessário.\n",
        "\n",
        "![](https://raw.githubusercontent.com/icd-ufmg/icd-ufmg.github.io/master/listas/l2/plot1.png)"
      ]
    },
    {
      "cell_type": "code",
      "execution_count": 44,
      "metadata": {
        "id": "NfkqSRTFJkLZ"
      },
      "outputs": [
        {
          "data": {
            "text/plain": [
              "<Axes: >"
            ]
          },
          "execution_count": 44,
          "metadata": {},
          "output_type": "execute_result"
        },
        {
          "data": {
            "image/png": "[encoded data removed]",
            "text/plain": [
              "<Figure size 1600x1000 with 1 Axes>"
            ]
          },
          "metadata": {},
          "output_type": "display_data"
        }
      ],
      "source": [
        "#seu código do Exercício 4 aqui:\n",
        "df.plot(kind=\"bar\")"
      ]
    },
    {
      "cell_type": "markdown",
      "metadata": {
        "id": "4FbF_aNUJkLa"
      },
      "source": [
        "### Exercício 05\n",
        "\n",
        "Agora, altere a função abaixo para retornar 'Norte' caso você acha ache que o país das vendas acima é do hemisfério norte. Retorne 'Sul' caso contrário."
      ]
    },
    {
      "cell_type": "code",
      "execution_count": null,
      "metadata": {
        "id": "8EUe3y_jJkLa"
      },
      "outputs": [],
      "source": [
        "def north_or_south():\n",
        "    # retorne 'Norte' ou 'Sul'\n",
        "    return 'Sul' # verao em Dez/Jan e inverno em Jul/Ago"
      ]
    },
    {
      "cell_type": "markdown",
      "metadata": {
        "id": "2Xr2SuhTJkLb"
      },
      "source": [
        "### Exercício 06\n",
        "\n",
        "Por fim, crie um método que retorne as estatísticas agregadas. Seu método deve retornar um novo DataFrame no seguinte formato.\n",
        "\n",
        "```\n",
        "          icecream   sunglasses       coats\n",
        "count    12.000000    12.000000   12.000000\n",
        "mean   1241.666667   297.500000  259.166667\n",
        "std     879.522942   367.896354  308.676304\n",
        "min     300.000000    50.000000   10.000000\n",
        "25%     575.000000    67.500000   65.000000\n",
        "50%    1000.000000   110.000000  110.000000\n",
        "75%    1600.000000   342.500000  395.000000\n",
        "max    3000.000000  1000.000000  900.000000\n",
        "```\n",
        "\n",
        "Uma única chamada Pandas resolve este problema!"
      ]
    },
    {
      "cell_type": "code",
      "execution_count": 48,
      "metadata": {
        "id": "CgQ6JrPsJkLb"
      },
      "outputs": [],
      "source": [
        "def questao6(df):\n",
        "    return df.describe()"
      ]
    },
    {
      "cell_type": "markdown",
      "metadata": {
        "id": "j27pujtoJkLb"
      },
      "source": [
        "## Arquivos\n",
        "\n",
        "É bem mais comum fazer uso de DataFrames que já existem em arquivos. Note que o trabalho do cientista de dados nem sempre vai ter tais arquivos prontos. Em várias ocasiões, você vai ter que coletar e organizar os mesmos. Limpeza e coleta de dados é uma parte fundamental do seu trabalho. Durante a matéria, boa parte dos notebooks já vão ter dados prontos.\n",
        "\n",
        "Neste último exercício, vamos fazer uso dos dados de [John Snow](http://blog.rtwilson.com/john-snows-cholera-data-in-more-formats/). Os dados já foram limpos para a tarefa."
      ]
    },
    {
      "cell_type": "code",
      "execution_count": 49,
      "metadata": {
        "id": "51aFL4qwJkLc"
      },
      "outputs": [
        {
          "data": {
            "text/html": [
              "<div>\n",
              "<style scoped>\n",
              "    .dataframe tbody tr th:only-of-type {\n",
              "        vertical-align: middle;\n",
              "    }\n",
              "\n",
              "    .dataframe tbody tr th {\n",
              "        vertical-align: top;\n",
              "    }\n",
              "\n",
              "    .dataframe thead th {\n",
              "        text-align: right;\n",
              "    }\n",
              "</style>\n",
              "<table border=\"1\" class=\"dataframe\">\n",
              "  <thead>\n",
              "    <tr style=\"text-align: right;\">\n",
              "      <th></th>\n",
              "      <th>Count</th>\n",
              "      <th>geometry</th>\n",
              "      <th>NearestPumpID</th>\n",
              "    </tr>\n",
              "  </thead>\n",
              "  <tbody>\n",
              "    <tr>\n",
              "      <th>0</th>\n",
              "      <td>3</td>\n",
              "      <td>POINT (529308.7414200425 181031.3515464273)</td>\n",
              "      <td>0</td>\n",
              "    </tr>\n",
              "    <tr>\n",
              "      <th>1</th>\n",
              "      <td>2</td>\n",
              "      <td>POINT (529312.163571333 181025.1724011325)</td>\n",
              "      <td>0</td>\n",
              "    </tr>\n",
              "    <tr>\n",
              "      <th>2</th>\n",
              "      <td>1</td>\n",
              "      <td>POINT (529314.3824294576 181020.2936884186)</td>\n",
              "      <td>0</td>\n",
              "    </tr>\n",
              "    <tr>\n",
              "      <th>3</th>\n",
              "      <td>1</td>\n",
              "      <td>POINT (529317.3796448297 181014.2587706869)</td>\n",
              "      <td>0</td>\n",
              "    </tr>\n",
              "    <tr>\n",
              "      <th>4</th>\n",
              "      <td>4</td>\n",
              "      <td>POINT (529320.6754489439 181007.8716281414)</td>\n",
              "      <td>0</td>\n",
              "    </tr>\n",
              "  </tbody>\n",
              "</table>\n",
              "</div>"
            ],
            "text/plain": [
              "   Count                                     geometry  NearestPumpID\n",
              "0      3  POINT (529308.7414200425 181031.3515464273)              0\n",
              "1      2   POINT (529312.163571333 181025.1724011325)              0\n",
              "2      1  POINT (529314.3824294576 181020.2936884186)              0\n",
              "3      1  POINT (529317.3796448297 181014.2587706869)              0\n",
              "4      4  POINT (529320.6754489439 181007.8716281414)              0"
            ]
          },
          "execution_count": 49,
          "metadata": {},
          "output_type": "execute_result"
        }
      ],
      "source": [
        "df = pd.read_csv('https://raw.githubusercontent.com/icd-ufmg/icd-ufmg.github.io/master/listas/l2/snow.csv')\n",
        "df.head()"
      ]
    },
    {
      "cell_type": "markdown",
      "metadata": {
        "id": "nix6aXOzJkLe"
      },
      "source": [
        "A coluna Count indica o número de mortes em uma casa. A NearestPumpID indica qual bomba d'água é a mais próxima da casa. Os dados não vão bater com os da aula, pois não tínhamos a informação precisa onde cada casa pegava água. Apenas assumi ser no local mais próximo!"
      ]
    },
    {
      "cell_type": "markdown",
      "metadata": {
        "id": "Z7OmVqwyJkLj"
      },
      "source": [
        "## Groupby\n",
        "\n",
        "Vamos responder uma pergunta com a função groupby. Lembrando a ideia é separar os dados com base em valores comuns, ou seja, agrupar por nomes e realizar alguma operação. O comando abaixo agrupa todos os recem-náscidos por nome. Imagine a mesma fazendo uma operação equivalente ao laço abaixo:\n",
        "\n",
        "```python\n",
        "buckets = {}                    # Mapa de dados\n",
        "names = set(df['Name'])         # Conjunto de nomes únicos\n",
        "for idx, row in df.iterrows():  # Para cada linha dos dados\n",
        "    name = row['Name']\n",
        "    if name not in buckets:\n",
        "        buckets[name] = []      # Uma lista para cada nome\n",
        "    buckets[name].append(row)   # Separa a linha para cada nome\n",
        "```\n",
        "O código acima é bastante lento!!! Enquanto isso, o groupby é otimizado, sendo bem mais rápido!"
      ]
    },
    {
      "cell_type": "markdown",
      "metadata": {
        "id": "178ba5bOJkLk"
      },
      "source": [
        "### Exercício 07\n",
        "\n",
        "Implemente uma função que retorna a quantidade de mortes para cada bomba. Use o `groupby`."
      ]
    },
    {
      "cell_type": "code",
      "execution_count": 55,
      "metadata": {
        "id": "w7d3eSMrJkLl"
      },
      "outputs": [],
      "source": [
        "def mortes_por_pump(df):\n",
        "    return df[['Count', 'NearestPumpID']].groupby('NearestPumpID').sum()"
      ]
    }
  ],
  "metadata": {
    "colab": {
      "provenance": []
    },
    "kernelspec": {
      "display_name": "myEnv",
      "language": "python",
      "name": "python3"
    },
    "language_info": {
      "codemirror_mode": {
        "name": "ipython",
        "version": 3
      },
      "file_extension": ".py",
      "mimetype": "text/x-python",
      "name": "python",
      "nbconvert_exporter": "python",
      "pygments_lexer": "ipython3",
      "version": "3.12.4"
    }
  },
  "nbformat": 4,
  "nbformat_minor": 0
}
