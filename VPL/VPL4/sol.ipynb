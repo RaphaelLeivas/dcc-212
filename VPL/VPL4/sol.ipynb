{
  "cells": [
    {
      "cell_type": "code",
      "execution_count": 4,
      "metadata": {
        "id": "VF6HWP1vQmHl"
      },
      "outputs": [],
      "source": [
        "import matplotlib.pyplot as plt\n",
        "\n",
        "import numpy as np\n",
        "import scipy.stats as ss\n",
        "\n",
        "\n",
        "np.random.seed(30091985)\n",
        "\n",
        "plt.rcParams[\"figure.figsize\"] = (10, 8)\n",
        "plt.ion();"
      ]
    },
    {
      "cell_type": "markdown",
      "metadata": {
        "id": "AumlbrSa9B6-"
      },
      "source": [
        "# Lista 4 - ICs e Bootstrap"
      ]
    },
    {
      "cell_type": "markdown",
      "metadata": {
        "id": "9kanULcm6e_P"
      },
      "source": [
        "## Intervalos de Confiança"
      ]
    },
    {
      "cell_type": "markdown",
      "metadata": {
        "id": "ZwWt4tZ9KyJW"
      },
      "source": [
        "Intervalos de confiança são intervalos calculados a partir de observações que podem variar de amostra para amostra e que com dada frequência (nível de confiança) inclui o parâmetro de interesse real não observável.\n",
        "\n",
        "**Por exemplo:** Um intervalo com nível de confiança de 99% para a média de uma variável aleatória significa que ao calcularmos *n* intervalos de confiança tomando como base *n* amostras aleatórias, espera-se que 99% dos intervalos construídos contenham o valor real do parâmetro (média).\n",
        "\n",
        "Em outras palavras, o nível de confiança seria a proporção de intervalos de confiança construídos em experimentos separados da mesma população e com o mesmo procedimento que contém o parâmetro de interesse real."
      ]
    },
    {
      "cell_type": "markdown",
      "metadata": {
        "id": "UJNKIoa66qWP"
      },
      "source": [
        "Foram ministradas duas maneiras de construírmos intervalos de confiança:\n",
        "\n",
        "- Probabilisticamente direto dos dados (Forma clássica).\n",
        "- Via sub-amostragem com reposição (*Bootstrap*)."
      ]
    },
    {
      "cell_type": "markdown",
      "metadata": {
        "id": "jnVjOUUzv_LJ"
      },
      "source": [
        "Para o primeiro caso, lembrando do conceito visto em aula, temos (para um IC com 95% de confiança):\n",
        "\n",
        "$$\\begin{align}\n",
        "0.95 = P(-z \\le Z \\le z)=P \\left(-1.96 \\le \\frac {\\bar X-\\mu}{\\sigma/\\sqrt{n}} \\le 1.96 \\right) = P \\left( \\bar X - 1.96 \\frac \\sigma {\\sqrt{n}} \\le \\mu \\le \\bar X + 1.96 \\frac \\sigma {\\sqrt{n}}\\right).\n",
        "\\end{align}$$"
      ]
    },
    {
      "cell_type": "markdown",
      "metadata": {
        "id": "KVA8KGEW8JhE"
      },
      "source": [
        "Vamos colocar na prática!"
      ]
    },
    {
      "cell_type": "markdown",
      "metadata": {
        "id": "nWTB0e1NtN1n"
      },
      "source": [
        "## Exemplo Inicial"
      ]
    },
    {
      "cell_type": "markdown",
      "metadata": {
        "id": "ZdiXKyXmQGoS"
      },
      "source": [
        "Vamos começar construindo um intervalo de confiança pra a média de uma distribuição Normal (Gaussiana) com média $\\mu = 0$ e variância $\\sigma² = 1$."
      ]
    },
    {
      "cell_type": "code",
      "execution_count": 5,
      "metadata": {
        "colab": {
          "base_uri": "https://localhost:8080/",
          "height": 760
        },
        "id": "HNW3DtbqIjDP",
        "outputId": "977fd7c6-461b-4f5b-d321-c869a13c508f"
      },
      "outputs": [
        {
          "data": {
            "image/png": "[encoded data removed]",
            "text/plain": [
              "<Figure size 1000x800 with 1 Axes>"
            ]
          },
          "metadata": {},
          "output_type": "display_data"
        },
        {
          "name": "stdout",
          "output_type": "stream",
          "text": [
            "INTERVALO DE CONFIANCA (manual) = [-0.0833, 0.0439]\n",
            "INTERVALO DE CONFIANCA (com scipy)= [-0.0833, 0.0439]\n"
          ]
        }
      ],
      "source": [
        "def confidence_interval(loc, scale, alpha=0.99):\n",
        "    \"\"\"\n",
        "    Essa função cria uma distribuição Normal com base nos\n",
        "    parâmetros fornecidos e constrói um intervalo de confiança para sua média.\n",
        "\n",
        "    Parameters:\n",
        "    -----------\n",
        "    loc (float): Média da distribuição desejada.\n",
        "    scale (float): Desvio padrão da distribuição desejada.\n",
        "    alpha (float): Nível de confiança do intervalo. Deve ser um valor entre 0 e 1. Default = 0.99, o que corresponde a 99% de confiança.\n",
        "\n",
        "    Returns:\n",
        "    -----------\n",
        "    X (array): Dados gerados segundo uma distribuição Normal(0,1).\n",
        "    LI (float): Limite inferior do intervalo calculado.\n",
        "    LS (float): Limite superior do intervalo calculado.\n",
        "\n",
        "    \"\"\"\n",
        "\n",
        "    # Gerando amostra de uma Normal(média,std) de tamanho N\n",
        "    N = 1000\n",
        "    X = np.random.normal(loc=loc, scale=scale, size=N)\n",
        "\n",
        "    # Criando plot da amostra gerada\n",
        "    plt.xlabel('Valores', fontsize=12)\n",
        "    plt.ylabel('Frequências', fontsize=12)\n",
        "    plt.title('Histograma de amostra de uma Distribuição Normal(0,1)', fontsize=16)\n",
        "\n",
        "    plt.hist(X, color='#A3333D', alpha=0.9, rwidth=0.85, bins=15)\n",
        "    plt.show()\n",
        "\n",
        "    # Calculando intervalo de  95% de confiança para a média manualmente\n",
        "    LI = X.mean() - 1.96 * (X.std(ddof=1) / np.sqrt(N)) # LI = limite inferior\n",
        "    LS = X.mean() + 1.96 * (X.std(ddof=1) / np.sqrt(N)) # LS = limite superior\n",
        "    print(\"INTERVALO DE CONFIANCA (manual) = [{:.4f}, {:.4f}]\".format(LI, LS))\n",
        "\n",
        "    # Utilizando o valor da confiança como base, utilizamos o pacote scipy.stats\n",
        "    LI = X.mean() - ss.norm.ppf(alpha+(1-alpha)/2).round(2) * (X.std(ddof=1) / np.sqrt(N))\n",
        "    LS = X.mean() + ss.norm.ppf(alpha+(1-alpha)/2).round(2) * (X.std(ddof=1) / np.sqrt(N))\n",
        "\n",
        "    # Printando intervalo de confiança\n",
        "    print(\"INTERVALO DE CONFIANCA (com scipy)= [{:.4f}, {:.4f}]\".format(LI, LS))\n",
        "\n",
        "    return X, LI, LS\n",
        "\n",
        "X, LI, LS = confidence_interval(loc=0, scale=1, alpha=0.95)"
      ]
    },
    {
      "cell_type": "markdown",
      "metadata": {
        "id": "Ob__-W20QGlU"
      },
      "source": [
        "Podemos afirmar que, se pudermos repetir muitas vezes o experimento e coletarmos os dados, aproximadamente em 95% das vezes a média populacional estará no intervalo encontrado.\n",
        "\n",
        "**Algumas observações interessantes. Note que:**\n",
        "- A cada vez que executamos o código acima, tanto os intervalos como o histograma dos dados são diferentes. Estamos realizando uma amostra de uma distribuição.\n",
        "- A medida que o tamanho da amostra (N) cresce, o tamanho do intervalo - para um mesmo nível de confiança - cai. Isso ocorre pois com mais dados temos uma maior certeza de que os valores encontrados de fato representam a população de interesse.\n",
        "- Os valores dos intervalos de confiança (manual e scipy) só coincidem quando *alpha=0.95*. Essa é a vantagem de se utilizar o pacote. Para valores diferentes de 0.95, deve-se consultar o valor correspondente na distribuição Z."
      ]
    },
    {
      "cell_type": "markdown",
      "metadata": {
        "id": "DbPnGld79G4s"
      },
      "source": [
        "## Dados ENEM 2015."
      ]
    },
    {
      "cell_type": "markdown",
      "metadata": {
        "id": "-V5G53Xm7CDL"
      },
      "source": [
        "Nos exercícios dessa seção vamos trabalhar com os dados do [ENEM 2015](https://raw.githubusercontent.com/pedroharaujo/ICD_Docencia/master/enem2015.csv).\n",
        "\n",
        "Importando pandas e carregando dados."
      ]
    },
    {
      "cell_type": "code",
      "execution_count": 6,
      "metadata": {
        "id": "yv4wKf8XKkqc"
      },
      "outputs": [],
      "source": [
        "import pandas as pd\n",
        "\n",
        "url = 'https://github.com/icd-ufmg/icd-ufmg.github.io/raw/master/listas/l4/enem2015.csv'\n",
        "data = pd.read_csv(url)"
      ]
    },
    {
      "cell_type": "markdown",
      "metadata": {
        "id": "Zuz-TU799Wm2"
      },
      "source": [
        "Primeiras visualizações do banco de dados do ENEM 2015."
      ]
    },
    {
      "cell_type": "code",
      "execution_count": 7,
      "metadata": {
        "colab": {
          "base_uri": "https://localhost:8080/",
          "height": 206
        },
        "id": "CXXzJbG7Nb91",
        "outputId": "7f0c44b7-ef29-4c21-edf0-6a5e14f78a70"
      },
      "outputs": [
        {
          "data": {
            "text/html": [
              "<div>\n",
              "<style scoped>\n",
              "    .dataframe tbody tr th:only-of-type {\n",
              "        vertical-align: middle;\n",
              "    }\n",
              "\n",
              "    .dataframe tbody tr th {\n",
              "        vertical-align: top;\n",
              "    }\n",
              "\n",
              "    .dataframe thead th {\n",
              "        text-align: right;\n",
              "    }\n",
              "</style>\n",
              "<table border=\"1\" class=\"dataframe\">\n",
              "  <thead>\n",
              "    <tr style=\"text-align: right;\">\n",
              "      <th></th>\n",
              "      <th>DEPENDENCIA_ADMINISTRATIVA</th>\n",
              "      <th>NOTA_MEDIA_ESCOLA</th>\n",
              "      <th>TAXA_DE_APROVACAO</th>\n",
              "      <th>TAXA_DE_PARTICIPACAO</th>\n",
              "    </tr>\n",
              "  </thead>\n",
              "  <tbody>\n",
              "    <tr>\n",
              "      <th>0</th>\n",
              "      <td>Federal</td>\n",
              "      <td>659.258362</td>\n",
              "      <td>92.2</td>\n",
              "      <td>96.894409</td>\n",
              "    </tr>\n",
              "    <tr>\n",
              "      <th>1</th>\n",
              "      <td>Federal</td>\n",
              "      <td>637.646728</td>\n",
              "      <td>86.5</td>\n",
              "      <td>98.717949</td>\n",
              "    </tr>\n",
              "    <tr>\n",
              "      <th>2</th>\n",
              "      <td>Estadual</td>\n",
              "      <td>556.710632</td>\n",
              "      <td>82.5</td>\n",
              "      <td>74.603180</td>\n",
              "    </tr>\n",
              "    <tr>\n",
              "      <th>3</th>\n",
              "      <td>Estadual</td>\n",
              "      <td>542.865967</td>\n",
              "      <td>70.2</td>\n",
              "      <td>54.651165</td>\n",
              "    </tr>\n",
              "    <tr>\n",
              "      <th>4</th>\n",
              "      <td>Estadual</td>\n",
              "      <td>557.379150</td>\n",
              "      <td>67.0</td>\n",
              "      <td>64.864861</td>\n",
              "    </tr>\n",
              "  </tbody>\n",
              "</table>\n",
              "</div>"
            ],
            "text/plain": [
              "  DEPENDENCIA_ADMINISTRATIVA  NOTA_MEDIA_ESCOLA  TAXA_DE_APROVACAO  \\\n",
              "0                    Federal         659.258362               92.2   \n",
              "1                    Federal         637.646728               86.5   \n",
              "2                   Estadual         556.710632               82.5   \n",
              "3                   Estadual         542.865967               70.2   \n",
              "4                   Estadual         557.379150               67.0   \n",
              "\n",
              "   TAXA_DE_PARTICIPACAO  \n",
              "0             96.894409  \n",
              "1             98.717949  \n",
              "2             74.603180  \n",
              "3             54.651165  \n",
              "4             64.864861  "
            ]
          },
          "execution_count": 7,
          "metadata": {},
          "output_type": "execute_result"
        }
      ],
      "source": [
        "data.head()"
      ]
    },
    {
      "cell_type": "code",
      "execution_count": 8,
      "metadata": {
        "colab": {
          "base_uri": "https://localhost:8080/",
          "height": 300
        },
        "id": "toIeoUHsNjVd",
        "outputId": "f91370e5-c5a1-4c44-90b7-c7a4efcc90c0"
      },
      "outputs": [
        {
          "data": {
            "text/html": [
              "<div>\n",
              "<style scoped>\n",
              "    .dataframe tbody tr th:only-of-type {\n",
              "        vertical-align: middle;\n",
              "    }\n",
              "\n",
              "    .dataframe tbody tr th {\n",
              "        vertical-align: top;\n",
              "    }\n",
              "\n",
              "    .dataframe thead th {\n",
              "        text-align: right;\n",
              "    }\n",
              "</style>\n",
              "<table border=\"1\" class=\"dataframe\">\n",
              "  <thead>\n",
              "    <tr style=\"text-align: right;\">\n",
              "      <th></th>\n",
              "      <th>NOTA_MEDIA_ESCOLA</th>\n",
              "      <th>TAXA_DE_APROVACAO</th>\n",
              "      <th>TAXA_DE_PARTICIPACAO</th>\n",
              "    </tr>\n",
              "  </thead>\n",
              "  <tbody>\n",
              "    <tr>\n",
              "      <th>count</th>\n",
              "      <td>1685.000000</td>\n",
              "      <td>1683.000000</td>\n",
              "      <td>1685.000000</td>\n",
              "    </tr>\n",
              "    <tr>\n",
              "      <th>mean</th>\n",
              "      <td>575.391745</td>\n",
              "      <td>86.044444</td>\n",
              "      <td>75.263669</td>\n",
              "    </tr>\n",
              "    <tr>\n",
              "      <th>std</th>\n",
              "      <td>40.796223</td>\n",
              "      <td>10.334011</td>\n",
              "      <td>16.886193</td>\n",
              "    </tr>\n",
              "    <tr>\n",
              "      <th>min</th>\n",
              "      <td>487.007141</td>\n",
              "      <td>47.700000</td>\n",
              "      <td>50.000000</td>\n",
              "    </tr>\n",
              "    <tr>\n",
              "      <th>25%</th>\n",
              "      <td>544.937500</td>\n",
              "      <td>79.500000</td>\n",
              "      <td>59.615387</td>\n",
              "    </tr>\n",
              "    <tr>\n",
              "      <th>50%</th>\n",
              "      <td>561.520752</td>\n",
              "      <td>87.800000</td>\n",
              "      <td>72.916672</td>\n",
              "    </tr>\n",
              "    <tr>\n",
              "      <th>75%</th>\n",
              "      <td>607.530579</td>\n",
              "      <td>94.550000</td>\n",
              "      <td>92.857140</td>\n",
              "    </tr>\n",
              "    <tr>\n",
              "      <th>max</th>\n",
              "      <td>713.629028</td>\n",
              "      <td>100.000000</td>\n",
              "      <td>100.000000</td>\n",
              "    </tr>\n",
              "  </tbody>\n",
              "</table>\n",
              "</div>"
            ],
            "text/plain": [
              "       NOTA_MEDIA_ESCOLA  TAXA_DE_APROVACAO  TAXA_DE_PARTICIPACAO\n",
              "count        1685.000000        1683.000000           1685.000000\n",
              "mean          575.391745          86.044444             75.263669\n",
              "std            40.796223          10.334011             16.886193\n",
              "min           487.007141          47.700000             50.000000\n",
              "25%           544.937500          79.500000             59.615387\n",
              "50%           561.520752          87.800000             72.916672\n",
              "75%           607.530579          94.550000             92.857140\n",
              "max           713.629028         100.000000            100.000000"
            ]
          },
          "execution_count": 8,
          "metadata": {},
          "output_type": "execute_result"
        }
      ],
      "source": [
        "data.describe()"
      ]
    },
    {
      "cell_type": "markdown",
      "metadata": {
        "id": "rGEHgaEBQGis"
      },
      "source": [
        "## Exercício 01"
      ]
    },
    {
      "cell_type": "markdown",
      "metadata": {
        "id": "SjLpnwC19vcV"
      },
      "source": [
        "Altere a função a baixo para retornar o intervalo de confiança para a média da variável 'NOTA_MEDIA_ESCOLA' para escolas com 'DEPENDENCIA_ADMINISTRATIVA' == Estadual.\n",
        "\n",
        "Nível de confiança: 99%\n",
        "\n",
        "**Lembrete**: será necessário aplicar os conhecimentos de pandas do módulo anterior para filtrar o DataFrame selecionando apenas os casos de interesse."
      ]
    },
    {
      "cell_type": "code",
      "execution_count": 9,
      "metadata": {
        "id": "7nAXnIpk6tPr"
      },
      "outputs": [],
      "source": [
        "def CI(data):\n",
        "    notas_escolas = data.loc[data['DEPENDENCIA_ADMINISTRATIVA'] == 'Estadual', 'NOTA_MEDIA_ESCOLA']  \n",
        "    alpha = 0.99\n",
        "    N = notas_escolas.shape[0]\n",
        "\n",
        "    LI = notas_escolas.mean() - ss.norm.ppf(alpha+(1-alpha)/2).round(2) * (notas_escolas.std(ddof=1) / np.sqrt(N))\n",
        "    LS = notas_escolas.mean() + ss.norm.ppf(alpha+(1-alpha)/2).round(2) * (notas_escolas.std(ddof=1) / np.sqrt(N))\n",
        "\n",
        "    return (LI, LS)\n",
        "# array = pegue os dados\n",
        "# CI(data)"
      ]
    },
    {
      "cell_type": "markdown",
      "metadata": {
        "id": "tpE-OB2A-eI5"
      },
      "source": [
        "Carregando os módulos de testes!"
      ]
    },
    {
      "cell_type": "code",
      "execution_count": 10,
      "metadata": {
        "id": "Eynd-EnyNkuq"
      },
      "outputs": [],
      "source": [
        "from numpy.testing import assert_almost_equal\n",
        "from numpy.testing import assert_equal\n",
        "\n",
        "from numpy.testing import assert_array_almost_equal\n",
        "from numpy.testing import assert_array_equal"
      ]
    },
    {
      "cell_type": "markdown",
      "metadata": {
        "id": "7GjnqG_DRRX2"
      },
      "source": [
        "Nosso teste"
      ]
    },
    {
      "cell_type": "code",
      "execution_count": 11,
      "metadata": {
        "id": "fB3QNl7iRRX2"
      },
      "outputs": [],
      "source": [
        "(LI, LS) = CI(data)\n",
        "\n",
        "assert_equal(548.13, LI.round(2))\n",
        "assert_equal(551.09, LS.round(2))"
      ]
    },
    {
      "cell_type": "markdown",
      "metadata": {
        "id": "ZoqeIRs6tAeJ"
      },
      "source": [
        "## Exercício 02 (Sem correção automática)"
      ]
    },
    {
      "cell_type": "markdown",
      "metadata": {
        "id": "AoNoA0HQzGI9"
      },
      "source": [
        "Plote uma CDF da coluna 'TAXA_DE_APROVACAO'.\n",
        "\n",
        "**Use o statsmodels e crie um objeto `ecdf = ECDF(...)`.**\n",
        "\n",
        "\n",
        "Esta tarefa não tem correção automática, use o gráfico abaixo para saber se acertou ou não.\n",
        "\n",
        "![](https://github.com/pedroharaujo/ICD_Docencia/blob/master/ECDF.png?raw=true)"
      ]
    },
    {
      "cell_type": "code",
      "execution_count": 12,
      "metadata": {
        "id": "6bGem0S0zOb2"
      },
      "outputs": [],
      "source": [
        "\n",
        "# codigo para importar a função ECDF\n",
        "from statsmodels.distributions.empirical_distribution import ECDF"
      ]
    },
    {
      "cell_type": "code",
      "execution_count": 13,
      "metadata": {
        "id": "QWq52qQp2u3A"
      },
      "outputs": [
        {
          "data": {
            "image/png": "[encoded data removed]",
            "text/plain": [
              "<Figure size 800x500 with 1 Axes>"
            ]
          },
          "metadata": {},
          "output_type": "display_data"
        }
      ],
      "source": [
        "taxa_aprovacao = data['TAXA_DE_APROVACAO']\n",
        "ecdf = ECDF(taxa_aprovacao)\n",
        "\n",
        "plt.figure(figsize=(8, 5))\n",
        "plt.step(ecdf.x, ecdf.y, where='post', label='ECDF')\n",
        "plt.xlabel('Value')\n",
        "plt.ylabel('Empirical CDF')\n",
        "plt.title('Empirical Cumulative Distribution Function (ECDF)')\n",
        "plt.grid(True)\n",
        "plt.legend()\n",
        "plt.show()"
      ]
    },
    {
      "cell_type": "markdown",
      "metadata": {
        "id": "FLwdrfiTCqo9"
      },
      "source": [
        "## Bootstrap"
      ]
    },
    {
      "cell_type": "markdown",
      "metadata": {
        "id": "6VmU_-Q2qAmo"
      },
      "source": [
        "Quando falamos em bootstrap deve-se ter em mente que estamos falando de amostragem com reposição.\n",
        "\n",
        "De maneira simplista, utilizamos bootstrap quando queremos construir um intervalo de confiança para uma variável e dispomos de poucos dados. Ao realizarmos várias sub-amostras **com reposição**, a lei dos grandes números nos garante que estamos aproximando a população de interesse.\n",
        "\n",
        "Note o destaque para o termo com reposição. É CRUCIAL que as sub-amostras sejam feitas com reposição. Só assim garantimos a aleatoriedade!\n",
        "\n",
        "Veja o exemplo abaixo."
      ]
    },
    {
      "cell_type": "code",
      "execution_count": 14,
      "metadata": {
        "id": "HusB0hXVAXHD"
      },
      "outputs": [
        {
          "name": "stdout",
          "output_type": "stream",
          "text": [
            "Intervalo de Confianca: [74.4816, 76.0833]\n"
          ]
        }
      ],
      "source": [
        "col = 'TAXA_DE_PARTICIPACAO'\n",
        "n_sub = 10000 #numero de sub-amostras\n",
        "size = len(data) #tamanho do dataframe\n",
        "values = np.zeros(n_sub)\n",
        "\n",
        "def bootstrap(n_sub, size, col):\n",
        "    for i in range(n_sub):\n",
        "        sample = data.sample(size, replace=True)\n",
        "\n",
        "        # Lembre que podemos utilizar mediana, média ou qualquer outra estatística agregada\n",
        "        # values[i] = sample[col].median()\n",
        "        values[i] = sample[col].mean()\n",
        "\n",
        "    # Gerando valores inferior e superior para um nível de confiança de 95%\n",
        "    LI = np.percentile(values, 2.5)\n",
        "    LS = np.percentile(values, 97.5)\n",
        "    return values, LI, LS\n",
        "\n",
        "values, LI, LS = bootstrap(n_sub, size, col)\n",
        "print('Intervalo de Confianca: [{}, {}]'.format(LI.round(4), LS.round(4)))"
      ]
    },
    {
      "cell_type": "markdown",
      "metadata": {
        "id": "Nh2ftLwCuA-0"
      },
      "source": [
        "## Exercício 03"
      ]
    },
    {
      "cell_type": "markdown",
      "metadata": {
        "id": "snm4iPdYtf-l"
      },
      "source": [
        "Realizando um groupy pela coluna 'DEPENDENCIA_ADMINISTRATIVA' conseguimos observar para quais casos vale a pena utilizarmos bootstrap."
      ]
    },
    {
      "cell_type": "code",
      "execution_count": 15,
      "metadata": {
        "colab": {
          "base_uri": "https://localhost:8080/",
          "height": 206
        },
        "id": "lecmZMWcpIkl",
        "outputId": "ae22b43b-cdfe-4ccf-b384-43c1cb08c335"
      },
      "outputs": [
        {
          "data": {
            "text/html": [
              "<div>\n",
              "<style scoped>\n",
              "    .dataframe tbody tr th:only-of-type {\n",
              "        vertical-align: middle;\n",
              "    }\n",
              "\n",
              "    .dataframe tbody tr th {\n",
              "        vertical-align: top;\n",
              "    }\n",
              "\n",
              "    .dataframe thead th {\n",
              "        text-align: right;\n",
              "    }\n",
              "</style>\n",
              "<table border=\"1\" class=\"dataframe\">\n",
              "  <thead>\n",
              "    <tr style=\"text-align: right;\">\n",
              "      <th></th>\n",
              "      <th>NOTA_MEDIA_ESCOLA</th>\n",
              "      <th>TAXA_DE_APROVACAO</th>\n",
              "      <th>TAXA_DE_PARTICIPACAO</th>\n",
              "    </tr>\n",
              "    <tr>\n",
              "      <th>DEPENDENCIA_ADMINISTRATIVA</th>\n",
              "      <th></th>\n",
              "      <th></th>\n",
              "      <th></th>\n",
              "    </tr>\n",
              "  </thead>\n",
              "  <tbody>\n",
              "    <tr>\n",
              "      <th>Estadual</th>\n",
              "      <td>1054</td>\n",
              "      <td>1054</td>\n",
              "      <td>1054</td>\n",
              "    </tr>\n",
              "    <tr>\n",
              "      <th>Federal</th>\n",
              "      <td>43</td>\n",
              "      <td>42</td>\n",
              "      <td>43</td>\n",
              "    </tr>\n",
              "    <tr>\n",
              "      <th>Municipal</th>\n",
              "      <td>22</td>\n",
              "      <td>22</td>\n",
              "      <td>22</td>\n",
              "    </tr>\n",
              "    <tr>\n",
              "      <th>Privada</th>\n",
              "      <td>566</td>\n",
              "      <td>565</td>\n",
              "      <td>566</td>\n",
              "    </tr>\n",
              "  </tbody>\n",
              "</table>\n",
              "</div>"
            ],
            "text/plain": [
              "                            NOTA_MEDIA_ESCOLA  TAXA_DE_APROVACAO  \\\n",
              "DEPENDENCIA_ADMINISTRATIVA                                         \n",
              "Estadual                                 1054               1054   \n",
              "Federal                                    43                 42   \n",
              "Municipal                                  22                 22   \n",
              "Privada                                   566                565   \n",
              "\n",
              "                            TAXA_DE_PARTICIPACAO  \n",
              "DEPENDENCIA_ADMINISTRATIVA                        \n",
              "Estadual                                    1054  \n",
              "Federal                                       43  \n",
              "Municipal                                     22  \n",
              "Privada                                      566  "
            ]
          },
          "execution_count": 15,
          "metadata": {},
          "output_type": "execute_result"
        }
      ],
      "source": [
        "data.groupby('DEPENDENCIA_ADMINISTRATIVA').count()"
      ]
    },
    {
      "cell_type": "markdown",
      "metadata": {
        "id": "cMQteG5et_wj"
      },
      "source": [
        "**A)** Intervalos de confiança exatos são úteis quando temos pelo menos uns 50 pontos. Na função abaixo, retorne o número da opção que indica para quais 'DEPENDENCIAS_ADMINISTRATIVAS' é aconselhado utilizar Bootstrap para construção do intervalo de confiança:\n",
        "\n",
        "- 1) Estadual e Federal.\n",
        "- 2) Estadual e Municipal.\n",
        "- 3) Estadual e Privada.\n",
        "- 4) Federal e Municipal.\n",
        "- 5) Federal e Privada.\n",
        "- 6) Municipal e Privada."
      ]
    },
    {
      "cell_type": "code",
      "execution_count": 16,
      "metadata": {
        "id": "VKRjH8ZxpPdv"
      },
      "outputs": [],
      "source": [
        "def resposta():\n",
        "    # Escolha uma das opções acima\n",
        "    # return 1 ou 2 ou 3 ou 4 ou 5 ou 6\n",
        "    # Escreva sua resposta abaixo:\n",
        "    # YOUR CODE HERE\n",
        "    return 3"
      ]
    },
    {
      "cell_type": "markdown",
      "metadata": {
        "id": "Yfd0Qm3xw4wL"
      },
      "source": [
        "**B)** Construa um intervalo de confiança via Bootstrap para a média da variável 'NOTA_MEDIA_ESCOLA' para escolas de 'DEPENDENCIA_ADMINISTRATIVA' **Federal**. Você deve utilizar 5000 amostras e nível de confiança de 90%."
      ]
    },
    {
      "cell_type": "code",
      "execution_count": 17,
      "metadata": {
        "colab": {
          "base_uri": "https://localhost:8080/",
          "height": 368
        },
        "id": "9QrpOUM8JCMG",
        "outputId": "131fb904-1860-43eb-9e3d-17060a81f88c"
      },
      "outputs": [],
      "source": [
        "for i in range(5000):\n",
        "    d_novo = data.sample(n=len(data), replace=True)\n",
        "    d_novo.query('DEPENDENCIA_ADMINISTRATIVA == \"Federal\"').NOTA_MEDIA_ESCOLA.mean()"
      ]
    },
    {
      "cell_type": "code",
      "execution_count": 70,
      "metadata": {
        "id": "eHLyqTxd0u6g"
      },
      "outputs": [],
      "source": [
        "def bootstrap_mean(n_sub, alpha):\n",
        "    col = 'NOTA_MEDIA_ESCOLA'\n",
        "     \n",
        "    values = np.zeros(n_sub)\n",
        "    notas = data.loc[data['DEPENDENCIA_ADMINISTRATIVA'] == 'Federal']\n",
        "    size = len(notas)\n",
        "    \n",
        "    for i in range(n_sub):\n",
        "        sample = notas.sample(n=size, replace=True)\n",
        "\n",
        "        # Lembre que podemos utilizar mediana, média ou qualquer outra estatística agregada\n",
        "        # values[i] = sample[col].median()\n",
        "        values[i] = sample[col].mean()\n",
        "\n",
        "    # Gerando valores inferior e superior para um nível de confiança de (1 - alpha)%\n",
        "    # LI = values.mean() - ss.norm.ppf(alpha+(1-alpha)/2).round(2) * (values.std(ddof=1) / np.sqrt(size))\n",
        "    # LS = values.mean() + ss.norm.ppf(alpha+(1-alpha)/2).round(2) * (values.std(ddof=1) / np.sqrt(size))\n",
        "\n",
        "    values = pd.Series(values)\n",
        "\n",
        "    # Compute confidence interval\n",
        "    LI = values.quantile((1 - alpha) / 2)\n",
        "    LS = values.quantile((1 - alpha) / 2 + alpha)\n",
        "\n",
        "    # LI = np.percentile(values, (1 - alpha) / 2)\n",
        "    # LS = np.percentile(values, (1 - alpha) / 2 + alpha)\n",
        "\n",
        "    return values, (LI, LS)"
      ]
    },
    {
      "cell_type": "code",
      "execution_count": 72,
      "metadata": {
        "colab": {
          "base_uri": "https://localhost:8080/",
          "height": 218
        },
        "id": "-C0BkpeW1QlF",
        "outputId": "f5fd4637-da6e-4c3c-a376-76244e10db90"
      },
      "outputs": [],
      "source": [
        "values, (LI, LS) = bootstrap_mean(n_sub=5000, alpha=0.9)\n",
        "# LI.round()\n",
        "assert LI.round() == 620 or LI.round() == 621 or LI.round() == 622\n",
        "assert LS.round() == 634 or LS.round() == 635 or LS.round() == 636\n",
        "# assert LI.round() == 615 or LI.round() == 616\n",
        "# assert LS.round() == 618 or LS.round() == 619"
      ]
    }
  ],
  "metadata": {
    "colab": {
      "collapsed_sections": [
        "9kanULcm6e_P",
        "nWTB0e1NtN1n",
        "DbPnGld79G4s",
        "ZoqeIRs6tAeJ",
        "FLwdrfiTCqo9"
      ],
      "name": "sol.ipynb",
      "provenance": []
    },
    "kernelspec": {
      "display_name": "myEnv",
      "language": "python",
      "name": "python3"
    },
    "language_info": {
      "codemirror_mode": {
        "name": "ipython",
        "version": 3
      },
      "file_extension": ".py",
      "mimetype": "text/x-python",
      "name": "python",
      "nbconvert_exporter": "python",
      "pygments_lexer": "ipython3",
      "version": "3.12.4"
    }
  },
  "nbformat": 4,
  "nbformat_minor": 0
}
