{
 "cells": [
  {
   "cell_type": "code",
   "execution_count": 1,
   "id": "6ca115a2",
   "metadata": {},
   "outputs": [],
   "source": [
    "import pandas as pd\n",
    "import numpy as np"
   ]
  },
  {
   "cell_type": "code",
   "execution_count": 19,
   "id": "90ff1acd",
   "metadata": {},
   "outputs": [
    {
     "name": "stdout",
     "output_type": "stream",
     "text": [
      "Bootstrap mean: 9.927\n",
      "95% CI: [9.477, 10.375]\n"
     ]
    }
   ],
   "source": [
    "# Example data\n",
    "# np.random.seed(42)\n",
    "data = pd.Series(np.random.normal(loc=10, scale=2, size=100))\n",
    "\n",
    "# Bootstrap parameters\n",
    "n_boot = 1000\n",
    "means = []\n",
    "\n",
    "# Bootstrap loop\n",
    "for i in range(n_boot):\n",
    "    sample = data.sample(frac=1, replace=True)  # sample with replacement\n",
    "    means.append(sample.mean())\n",
    "\n",
    "means = pd.Series(means)\n",
    "\n",
    "# Compute confidence interval\n",
    "ci_lower = means.quantile(0.025)\n",
    "ci_upper = means.quantile(0.975)\n",
    "\n",
    "print(f\"Bootstrap mean: {means.mean():.3f}\")\n",
    "print(f\"95% CI: [{ci_lower:.3f}, {ci_upper:.3f}]\")"
   ]
  }
 ],
 "metadata": {
  "kernelspec": {
   "display_name": "myEnv",
   "language": "python",
   "name": "python3"
  },
  "language_info": {
   "codemirror_mode": {
    "name": "ipython",
    "version": 3
   },
   "file_extension": ".py",
   "mimetype": "text/x-python",
   "name": "python",
   "nbconvert_exporter": "python",
   "pygments_lexer": "ipython3",
   "version": "3.12.4"
  }
 },
 "nbformat": 4,
 "nbformat_minor": 5
}
